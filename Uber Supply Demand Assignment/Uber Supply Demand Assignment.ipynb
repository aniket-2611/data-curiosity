{
 "cells": [
  {
   "cell_type": "markdown",
   "id": "40047bb0",
   "metadata": {},
   "source": [
    "# Uber Supply Demand Assignment"
   ]
  },
  {
   "cell_type": "markdown",
   "id": "fcc3a8ca",
   "metadata": {},
   "source": [
    "***Introduction***"
   ]
  },
  {
   "cell_type": "markdown",
   "id": "623e0a56",
   "metadata": {},
   "source": [
    "Solving this assignment will give us an idea about how problems are systematically solved using Exploratory Data Analysis(EDA) and data visualisation."
   ]
  },
  {
   "cell_type": "markdown",
   "id": "94c97fa7",
   "metadata": {},
   "source": [
    "***Business Understanding***"
   ]
  },
  {
   "cell_type": "markdown",
   "id": "aa1dcafb",
   "metadata": {},
   "source": [
    "We all have used Uber or any other cab service for travel from the airport. Most of the time problem of **cancellation by the driver or non-availability of cars** faced by the customers.These issues also impact the business of Uber as Uber loses out on its revenue. As an analyst, we decide to address the problem Uber is facing - driver cancellation and non-availability of cars leading to loss of potential revenue."
   ]
  },
  {
   "cell_type": "markdown",
   "id": "f1cba2f9",
   "metadata": {},
   "source": [
    "***Business Objectives***"
   ]
  },
  {
   "cell_type": "markdown",
   "id": "f2c15c41",
   "metadata": {},
   "source": [
    "The aim of analysis is to identify the root cause of the problem (i.e. cancellation and non-availability of cars) and recommend ways to improve the situation. As a result of your analysis, you should be able to present to the client the root cause(s) and possible hypotheses of the problem(s) and recommend ways to improve them."
   ]
  },
  {
   "cell_type": "markdown",
   "id": "7daec308",
   "metadata": {},
   "source": [
    "***Data Understanding***"
   ]
  },
  {
   "cell_type": "markdown",
   "id": "78a9c2be",
   "metadata": {},
   "source": [
    "There are six attributes associated with each request made by a customer:\n",
    "\n",
    "   1. Request id: A unique identifier of the request\n",
    "   2. Time of request: The date and time at which the customer made the trip request\n",
    "   3. Drop-off time: The drop-off date and time, in case the trip was completed \n",
    "   4. Pick-up point: The point from which the request was made\n",
    "   5. Driver id: The unique identification number of the driver\n",
    "   6. Status of the request: The final status of the trip, that can be either completed, cancelled by the driver or no cars available\n",
    "\n",
    "Note: For this assignment, only the trips to and from the airport are being considered."
   ]
  },
  {
   "cell_type": "markdown",
   "id": "11dc54a2",
   "metadata": {},
   "source": [
    "# Let's Start"
   ]
  },
  {
   "cell_type": "markdown",
   "id": "44b27d04",
   "metadata": {},
   "source": [
    "***Supress Warnings***"
   ]
  },
  {
   "cell_type": "code",
   "execution_count": 1,
   "id": "2d8be719",
   "metadata": {},
   "outputs": [],
   "source": [
    "import warnings\n",
    "warnings.filterwarnings('ignore')"
   ]
  },
  {
   "cell_type": "markdown",
   "id": "05df9873",
   "metadata": {},
   "source": [
    "***Importing required packages***"
   ]
  },
  {
   "cell_type": "code",
   "execution_count": 2,
   "id": "327e734e",
   "metadata": {},
   "outputs": [],
   "source": [
    "import numpy as np\n",
    "import pandas as pd\n",
    "import datetime as dt\n",
    "import matplotlib.pyplot as plt\n",
    "import seaborn as sns\n",
    "import plotly.express as px"
   ]
  },
  {
   "cell_type": "markdown",
   "id": "404b4de8",
   "metadata": {},
   "source": [
    "# Data Sourcing"
   ]
  },
  {
   "cell_type": "markdown",
   "id": "d1a74216",
   "metadata": {},
   "source": [
    "***Importing the Data (CSV File) here***"
   ]
  },
  {
   "cell_type": "code",
   "execution_count": 3,
   "id": "afd6f75a",
   "metadata": {},
   "outputs": [
    {
     "data": {
      "text/html": [
       "<div>\n",
       "<style scoped>\n",
       "    .dataframe tbody tr th:only-of-type {\n",
       "        vertical-align: middle;\n",
       "    }\n",
       "\n",
       "    .dataframe tbody tr th {\n",
       "        vertical-align: top;\n",
       "    }\n",
       "\n",
       "    .dataframe thead th {\n",
       "        text-align: right;\n",
       "    }\n",
       "</style>\n",
       "<table border=\"1\" class=\"dataframe\">\n",
       "  <thead>\n",
       "    <tr style=\"text-align: right;\">\n",
       "      <th></th>\n",
       "      <th>Request id</th>\n",
       "      <th>Pickup point</th>\n",
       "      <th>Driver id</th>\n",
       "      <th>Status</th>\n",
       "      <th>Request timestamp</th>\n",
       "      <th>Drop timestamp</th>\n",
       "    </tr>\n",
       "  </thead>\n",
       "  <tbody>\n",
       "    <tr>\n",
       "      <th>0</th>\n",
       "      <td>619</td>\n",
       "      <td>Airport</td>\n",
       "      <td>1.0</td>\n",
       "      <td>Trip Completed</td>\n",
       "      <td>11/7/2016 11:51</td>\n",
       "      <td>11/7/2016 13:00</td>\n",
       "    </tr>\n",
       "    <tr>\n",
       "      <th>1</th>\n",
       "      <td>867</td>\n",
       "      <td>Airport</td>\n",
       "      <td>1.0</td>\n",
       "      <td>Trip Completed</td>\n",
       "      <td>11/7/2016 17:57</td>\n",
       "      <td>11/7/2016 18:47</td>\n",
       "    </tr>\n",
       "    <tr>\n",
       "      <th>2</th>\n",
       "      <td>1807</td>\n",
       "      <td>City</td>\n",
       "      <td>1.0</td>\n",
       "      <td>Trip Completed</td>\n",
       "      <td>12/7/2016 9:17</td>\n",
       "      <td>12/7/2016 9:58</td>\n",
       "    </tr>\n",
       "    <tr>\n",
       "      <th>3</th>\n",
       "      <td>2532</td>\n",
       "      <td>Airport</td>\n",
       "      <td>1.0</td>\n",
       "      <td>Trip Completed</td>\n",
       "      <td>12/7/2016 21:08</td>\n",
       "      <td>12/7/2016 22:03</td>\n",
       "    </tr>\n",
       "    <tr>\n",
       "      <th>4</th>\n",
       "      <td>3112</td>\n",
       "      <td>City</td>\n",
       "      <td>1.0</td>\n",
       "      <td>Trip Completed</td>\n",
       "      <td>13-07-2016 08:33:16</td>\n",
       "      <td>13-07-2016 09:25:47</td>\n",
       "    </tr>\n",
       "  </tbody>\n",
       "</table>\n",
       "</div>"
      ],
      "text/plain": [
       "   Request id Pickup point  Driver id          Status    Request timestamp  \\\n",
       "0         619      Airport        1.0  Trip Completed      11/7/2016 11:51   \n",
       "1         867      Airport        1.0  Trip Completed      11/7/2016 17:57   \n",
       "2        1807         City        1.0  Trip Completed       12/7/2016 9:17   \n",
       "3        2532      Airport        1.0  Trip Completed      12/7/2016 21:08   \n",
       "4        3112         City        1.0  Trip Completed  13-07-2016 08:33:16   \n",
       "\n",
       "        Drop timestamp  \n",
       "0      11/7/2016 13:00  \n",
       "1      11/7/2016 18:47  \n",
       "2       12/7/2016 9:58  \n",
       "3      12/7/2016 22:03  \n",
       "4  13-07-2016 09:25:47  "
      ]
     },
     "execution_count": 3,
     "metadata": {},
     "output_type": "execute_result"
    }
   ],
   "source": [
    "uber = pd.read_csv(\"Uber Request Data.csv\")\n",
    "uber.head()"
   ]
  },
  {
   "cell_type": "markdown",
   "id": "dbff67aa",
   "metadata": {},
   "source": [
    "***Inspecting the Dataframe***"
   ]
  },
  {
   "cell_type": "code",
   "execution_count": 4,
   "id": "a5769226",
   "metadata": {},
   "outputs": [
    {
     "data": {
      "text/plain": [
       "(6745, 6)"
      ]
     },
     "execution_count": 4,
     "metadata": {},
     "output_type": "execute_result"
    }
   ],
   "source": [
    "uber.shape"
   ]
  },
  {
   "cell_type": "code",
   "execution_count": 5,
   "id": "6959138f",
   "metadata": {},
   "outputs": [
    {
     "name": "stdout",
     "output_type": "stream",
     "text": [
      "<class 'pandas.core.frame.DataFrame'>\n",
      "RangeIndex: 6745 entries, 0 to 6744\n",
      "Data columns (total 6 columns):\n",
      " #   Column             Non-Null Count  Dtype  \n",
      "---  ------             --------------  -----  \n",
      " 0   Request id         6745 non-null   int64  \n",
      " 1   Pickup point       6745 non-null   object \n",
      " 2   Driver id          4095 non-null   float64\n",
      " 3   Status             6745 non-null   object \n",
      " 4   Request timestamp  6745 non-null   object \n",
      " 5   Drop timestamp     2831 non-null   object \n",
      "dtypes: float64(1), int64(1), object(4)\n",
      "memory usage: 316.3+ KB\n"
     ]
    }
   ],
   "source": [
    "uber.info()"
   ]
  },
  {
   "cell_type": "code",
   "execution_count": 6,
   "id": "6e1731d5",
   "metadata": {},
   "outputs": [
    {
     "data": {
      "text/html": [
       "<div>\n",
       "<style scoped>\n",
       "    .dataframe tbody tr th:only-of-type {\n",
       "        vertical-align: middle;\n",
       "    }\n",
       "\n",
       "    .dataframe tbody tr th {\n",
       "        vertical-align: top;\n",
       "    }\n",
       "\n",
       "    .dataframe thead th {\n",
       "        text-align: right;\n",
       "    }\n",
       "</style>\n",
       "<table border=\"1\" class=\"dataframe\">\n",
       "  <thead>\n",
       "    <tr style=\"text-align: right;\">\n",
       "      <th></th>\n",
       "      <th>Request id</th>\n",
       "      <th>Driver id</th>\n",
       "    </tr>\n",
       "  </thead>\n",
       "  <tbody>\n",
       "    <tr>\n",
       "      <th>count</th>\n",
       "      <td>6745.000000</td>\n",
       "      <td>4095.000000</td>\n",
       "    </tr>\n",
       "    <tr>\n",
       "      <th>mean</th>\n",
       "      <td>3384.644922</td>\n",
       "      <td>149.501343</td>\n",
       "    </tr>\n",
       "    <tr>\n",
       "      <th>std</th>\n",
       "      <td>1955.099667</td>\n",
       "      <td>86.051994</td>\n",
       "    </tr>\n",
       "    <tr>\n",
       "      <th>min</th>\n",
       "      <td>1.000000</td>\n",
       "      <td>1.000000</td>\n",
       "    </tr>\n",
       "    <tr>\n",
       "      <th>25%</th>\n",
       "      <td>1691.000000</td>\n",
       "      <td>75.000000</td>\n",
       "    </tr>\n",
       "    <tr>\n",
       "      <th>50%</th>\n",
       "      <td>3387.000000</td>\n",
       "      <td>149.000000</td>\n",
       "    </tr>\n",
       "    <tr>\n",
       "      <th>75%</th>\n",
       "      <td>5080.000000</td>\n",
       "      <td>224.000000</td>\n",
       "    </tr>\n",
       "    <tr>\n",
       "      <th>max</th>\n",
       "      <td>6766.000000</td>\n",
       "      <td>300.000000</td>\n",
       "    </tr>\n",
       "  </tbody>\n",
       "</table>\n",
       "</div>"
      ],
      "text/plain": [
       "        Request id    Driver id\n",
       "count  6745.000000  4095.000000\n",
       "mean   3384.644922   149.501343\n",
       "std    1955.099667    86.051994\n",
       "min       1.000000     1.000000\n",
       "25%    1691.000000    75.000000\n",
       "50%    3387.000000   149.000000\n",
       "75%    5080.000000   224.000000\n",
       "max    6766.000000   300.000000"
      ]
     },
     "execution_count": 6,
     "metadata": {},
     "output_type": "execute_result"
    }
   ],
   "source": [
    "uber.describe()"
   ]
  },
  {
   "cell_type": "markdown",
   "id": "7a55781e",
   "metadata": {},
   "source": [
    "# Checking the data quality issue & Data Cleaning"
   ]
  },
  {
   "cell_type": "markdown",
   "id": "f26b97d0",
   "metadata": {},
   "source": [
    "***Replacing space in column heading with \"_\"***"
   ]
  },
  {
   "cell_type": "code",
   "execution_count": 7,
   "id": "e24f9107",
   "metadata": {},
   "outputs": [
    {
     "data": {
      "text/html": [
       "<div>\n",
       "<style scoped>\n",
       "    .dataframe tbody tr th:only-of-type {\n",
       "        vertical-align: middle;\n",
       "    }\n",
       "\n",
       "    .dataframe tbody tr th {\n",
       "        vertical-align: top;\n",
       "    }\n",
       "\n",
       "    .dataframe thead th {\n",
       "        text-align: right;\n",
       "    }\n",
       "</style>\n",
       "<table border=\"1\" class=\"dataframe\">\n",
       "  <thead>\n",
       "    <tr style=\"text-align: right;\">\n",
       "      <th></th>\n",
       "      <th>Request_id</th>\n",
       "      <th>Pickup_point</th>\n",
       "      <th>Driver_id</th>\n",
       "      <th>Status</th>\n",
       "      <th>Request_timestamp</th>\n",
       "      <th>Drop_timestamp</th>\n",
       "    </tr>\n",
       "  </thead>\n",
       "  <tbody>\n",
       "    <tr>\n",
       "      <th>0</th>\n",
       "      <td>619</td>\n",
       "      <td>Airport</td>\n",
       "      <td>1.0</td>\n",
       "      <td>Trip Completed</td>\n",
       "      <td>11/7/2016 11:51</td>\n",
       "      <td>11/7/2016 13:00</td>\n",
       "    </tr>\n",
       "    <tr>\n",
       "      <th>1</th>\n",
       "      <td>867</td>\n",
       "      <td>Airport</td>\n",
       "      <td>1.0</td>\n",
       "      <td>Trip Completed</td>\n",
       "      <td>11/7/2016 17:57</td>\n",
       "      <td>11/7/2016 18:47</td>\n",
       "    </tr>\n",
       "    <tr>\n",
       "      <th>2</th>\n",
       "      <td>1807</td>\n",
       "      <td>City</td>\n",
       "      <td>1.0</td>\n",
       "      <td>Trip Completed</td>\n",
       "      <td>12/7/2016 9:17</td>\n",
       "      <td>12/7/2016 9:58</td>\n",
       "    </tr>\n",
       "    <tr>\n",
       "      <th>3</th>\n",
       "      <td>2532</td>\n",
       "      <td>Airport</td>\n",
       "      <td>1.0</td>\n",
       "      <td>Trip Completed</td>\n",
       "      <td>12/7/2016 21:08</td>\n",
       "      <td>12/7/2016 22:03</td>\n",
       "    </tr>\n",
       "    <tr>\n",
       "      <th>4</th>\n",
       "      <td>3112</td>\n",
       "      <td>City</td>\n",
       "      <td>1.0</td>\n",
       "      <td>Trip Completed</td>\n",
       "      <td>13-07-2016 08:33:16</td>\n",
       "      <td>13-07-2016 09:25:47</td>\n",
       "    </tr>\n",
       "  </tbody>\n",
       "</table>\n",
       "</div>"
      ],
      "text/plain": [
       "   Request_id Pickup_point  Driver_id          Status    Request_timestamp  \\\n",
       "0         619      Airport        1.0  Trip Completed      11/7/2016 11:51   \n",
       "1         867      Airport        1.0  Trip Completed      11/7/2016 17:57   \n",
       "2        1807         City        1.0  Trip Completed       12/7/2016 9:17   \n",
       "3        2532      Airport        1.0  Trip Completed      12/7/2016 21:08   \n",
       "4        3112         City        1.0  Trip Completed  13-07-2016 08:33:16   \n",
       "\n",
       "        Drop_timestamp  \n",
       "0      11/7/2016 13:00  \n",
       "1      11/7/2016 18:47  \n",
       "2       12/7/2016 9:58  \n",
       "3      12/7/2016 22:03  \n",
       "4  13-07-2016 09:25:47  "
      ]
     },
     "execution_count": 7,
     "metadata": {},
     "output_type": "execute_result"
    }
   ],
   "source": [
    "uber.columns = uber.columns.str.replace(' ', '_')\n",
    "uber.head()"
   ]
  },
  {
   "cell_type": "markdown",
   "id": "f7373434",
   "metadata": {},
   "source": [
    "***Checking for any duplicate values in rows***"
   ]
  },
  {
   "cell_type": "code",
   "execution_count": 8,
   "id": "0640514b",
   "metadata": {},
   "outputs": [
    {
     "data": {
      "text/plain": [
       "0"
      ]
     },
     "execution_count": 8,
     "metadata": {},
     "output_type": "execute_result"
    }
   ],
   "source": [
    "uber.duplicated(subset = 'Request_id', keep = False).sum()"
   ]
  },
  {
   "cell_type": "markdown",
   "id": "cef311f9",
   "metadata": {},
   "source": [
    "No duplicate values found "
   ]
  },
  {
   "cell_type": "markdown",
   "id": "51c6ebd0",
   "metadata": {},
   "source": [
    "***Checking for any spelling mistakes in Pickup_point & Status Columns***"
   ]
  },
  {
   "cell_type": "code",
   "execution_count": 9,
   "id": "21b82816",
   "metadata": {},
   "outputs": [
    {
     "data": {
      "text/plain": [
       "array(['Airport', 'City'], dtype=object)"
      ]
     },
     "execution_count": 9,
     "metadata": {},
     "output_type": "execute_result"
    }
   ],
   "source": [
    "uber['Pickup_point'].unique()"
   ]
  },
  {
   "cell_type": "code",
   "execution_count": 10,
   "id": "986b8d6d",
   "metadata": {},
   "outputs": [
    {
     "data": {
      "text/plain": [
       "array(['Trip Completed', 'Cancelled', 'No Cars Available'], dtype=object)"
      ]
     },
     "execution_count": 10,
     "metadata": {},
     "output_type": "execute_result"
    }
   ],
   "source": [
    "uber['Status'].unique()"
   ]
  },
  {
   "cell_type": "markdown",
   "id": "64644b6b",
   "metadata": {},
   "source": [
    "No spelling mistake found"
   ]
  },
  {
   "cell_type": "markdown",
   "id": "0fd7c88e",
   "metadata": {},
   "source": [
    "***Inspecting Null Values***"
   ]
  },
  {
   "cell_type": "code",
   "execution_count": 11,
   "id": "e1d44fcc",
   "metadata": {},
   "outputs": [
    {
     "data": {
      "text/plain": [
       "Request_id              0\n",
       "Pickup_point            0\n",
       "Driver_id            2650\n",
       "Status                  0\n",
       "Request_timestamp       0\n",
       "Drop_timestamp       3914\n",
       "dtype: int64"
      ]
     },
     "execution_count": 11,
     "metadata": {},
     "output_type": "execute_result"
    }
   ],
   "source": [
    "uber.isnull().sum()"
   ]
  },
  {
   "cell_type": "code",
   "execution_count": 12,
   "id": "80c6d0ec",
   "metadata": {},
   "outputs": [
    {
     "data": {
      "text/plain": [
       "Status\n",
       "No Cars Available    2650\n",
       "dtype: int64"
      ]
     },
     "execution_count": 12,
     "metadata": {},
     "output_type": "execute_result"
    }
   ],
   "source": [
    "uber[(uber['Driver_id'].isnull())].groupby('Status').size()"
   ]
  },
  {
   "cell_type": "code",
   "execution_count": 13,
   "id": "255abbbb",
   "metadata": {},
   "outputs": [
    {
     "data": {
      "text/plain": [
       "Status\n",
       "Cancelled            1264\n",
       "No Cars Available    2650\n",
       "dtype: int64"
      ]
     },
     "execution_count": 13,
     "metadata": {},
     "output_type": "execute_result"
    }
   ],
   "source": [
    "uber[(uber['Drop_timestamp'].isnull())].groupby('Status').size()"
   ]
  },
  {
   "cell_type": "markdown",
   "id": "4627d019",
   "metadata": {},
   "source": [
    "**'Driver_id'** rows are empty when the **'Status'** is **\"No Cars Available\".**\n",
    "\n",
    "**'Drop_timestamp'** rows are empty when the **'Status'** is **\"No Cars Available\" or \"Cancelled\"**.\n",
    "\n",
    "Since the trips did not happen in those cases, the **'Driver_id'** and **'Drop_timestamp'** can not be available.\n",
    "\n",
    "It looks valid to have **'Driver_id'** and **'Drop_timestamp'** to have null values. Hence these null values are retained as such in data."
   ]
  },
  {
   "cell_type": "markdown",
   "id": "ea732108",
   "metadata": {},
   "source": [
    "# Data Preperation "
   ]
  },
  {
   "cell_type": "markdown",
   "id": "3b0fada3",
   "metadata": {},
   "source": [
    "***Converting data type from 'Object' to 'Datetime'***\n",
    "\n",
    "As we saw that 'Request_timestamp' and 'Drop_timestamp' is object type, converting both to datetime type by creating new columns."
   ]
  },
  {
   "cell_type": "code",
   "execution_count": 14,
   "id": "a4c7b54e",
   "metadata": {},
   "outputs": [
    {
     "data": {
      "text/html": [
       "<div>\n",
       "<style scoped>\n",
       "    .dataframe tbody tr th:only-of-type {\n",
       "        vertical-align: middle;\n",
       "    }\n",
       "\n",
       "    .dataframe tbody tr th {\n",
       "        vertical-align: top;\n",
       "    }\n",
       "\n",
       "    .dataframe thead th {\n",
       "        text-align: right;\n",
       "    }\n",
       "</style>\n",
       "<table border=\"1\" class=\"dataframe\">\n",
       "  <thead>\n",
       "    <tr style=\"text-align: right;\">\n",
       "      <th></th>\n",
       "      <th>Request_id</th>\n",
       "      <th>Pickup_point</th>\n",
       "      <th>Driver_id</th>\n",
       "      <th>Status</th>\n",
       "      <th>Request_timestamp</th>\n",
       "      <th>Drop_timestamp</th>\n",
       "      <th>Request_Date_Time</th>\n",
       "      <th>Drop_Date_Time</th>\n",
       "    </tr>\n",
       "  </thead>\n",
       "  <tbody>\n",
       "    <tr>\n",
       "      <th>0</th>\n",
       "      <td>619</td>\n",
       "      <td>Airport</td>\n",
       "      <td>1.0</td>\n",
       "      <td>Trip Completed</td>\n",
       "      <td>11/7/2016 11:51</td>\n",
       "      <td>11/7/2016 13:00</td>\n",
       "      <td>2016-07-11 11:51:00</td>\n",
       "      <td>2016-07-11 13:00:00</td>\n",
       "    </tr>\n",
       "    <tr>\n",
       "      <th>1</th>\n",
       "      <td>867</td>\n",
       "      <td>Airport</td>\n",
       "      <td>1.0</td>\n",
       "      <td>Trip Completed</td>\n",
       "      <td>11/7/2016 17:57</td>\n",
       "      <td>11/7/2016 18:47</td>\n",
       "      <td>2016-07-11 17:57:00</td>\n",
       "      <td>2016-07-11 18:47:00</td>\n",
       "    </tr>\n",
       "    <tr>\n",
       "      <th>2</th>\n",
       "      <td>1807</td>\n",
       "      <td>City</td>\n",
       "      <td>1.0</td>\n",
       "      <td>Trip Completed</td>\n",
       "      <td>12/7/2016 9:17</td>\n",
       "      <td>12/7/2016 9:58</td>\n",
       "      <td>2016-07-12 09:17:00</td>\n",
       "      <td>2016-07-12 09:58:00</td>\n",
       "    </tr>\n",
       "    <tr>\n",
       "      <th>3</th>\n",
       "      <td>2532</td>\n",
       "      <td>Airport</td>\n",
       "      <td>1.0</td>\n",
       "      <td>Trip Completed</td>\n",
       "      <td>12/7/2016 21:08</td>\n",
       "      <td>12/7/2016 22:03</td>\n",
       "      <td>2016-07-12 21:08:00</td>\n",
       "      <td>2016-07-12 22:03:00</td>\n",
       "    </tr>\n",
       "    <tr>\n",
       "      <th>4</th>\n",
       "      <td>3112</td>\n",
       "      <td>City</td>\n",
       "      <td>1.0</td>\n",
       "      <td>Trip Completed</td>\n",
       "      <td>13-07-2016 08:33:16</td>\n",
       "      <td>13-07-2016 09:25:47</td>\n",
       "      <td>2016-07-13 08:33:16</td>\n",
       "      <td>2016-07-13 09:25:47</td>\n",
       "    </tr>\n",
       "  </tbody>\n",
       "</table>\n",
       "</div>"
      ],
      "text/plain": [
       "   Request_id Pickup_point  Driver_id          Status    Request_timestamp  \\\n",
       "0         619      Airport        1.0  Trip Completed      11/7/2016 11:51   \n",
       "1         867      Airport        1.0  Trip Completed      11/7/2016 17:57   \n",
       "2        1807         City        1.0  Trip Completed       12/7/2016 9:17   \n",
       "3        2532      Airport        1.0  Trip Completed      12/7/2016 21:08   \n",
       "4        3112         City        1.0  Trip Completed  13-07-2016 08:33:16   \n",
       "\n",
       "        Drop_timestamp   Request_Date_Time      Drop_Date_Time  \n",
       "0      11/7/2016 13:00 2016-07-11 11:51:00 2016-07-11 13:00:00  \n",
       "1      11/7/2016 18:47 2016-07-11 17:57:00 2016-07-11 18:47:00  \n",
       "2       12/7/2016 9:58 2016-07-12 09:17:00 2016-07-12 09:58:00  \n",
       "3      12/7/2016 22:03 2016-07-12 21:08:00 2016-07-12 22:03:00  \n",
       "4  13-07-2016 09:25:47 2016-07-13 08:33:16 2016-07-13 09:25:47  "
      ]
     },
     "execution_count": 14,
     "metadata": {},
     "output_type": "execute_result"
    }
   ],
   "source": [
    "uber['Request_Date_Time'] = pd.to_datetime(uber['Request_timestamp'], dayfirst = True)\n",
    "uber['Drop_Date_Time'] = pd.to_datetime(uber['Drop_timestamp'], dayfirst = True)\n",
    "uber.head()"
   ]
  },
  {
   "cell_type": "markdown",
   "id": "754ff3d9",
   "metadata": {},
   "source": [
    "***Checking if 'Request_timestamp' and 'Drop_timestamp' got converted to datetime type or not***"
   ]
  },
  {
   "cell_type": "code",
   "execution_count": 15,
   "id": "7bd97895",
   "metadata": {},
   "outputs": [
    {
     "name": "stdout",
     "output_type": "stream",
     "text": [
      "<class 'pandas.core.frame.DataFrame'>\n",
      "RangeIndex: 6745 entries, 0 to 6744\n",
      "Data columns (total 8 columns):\n",
      " #   Column             Non-Null Count  Dtype         \n",
      "---  ------             --------------  -----         \n",
      " 0   Request_id         6745 non-null   int64         \n",
      " 1   Pickup_point       6745 non-null   object        \n",
      " 2   Driver_id          4095 non-null   float64       \n",
      " 3   Status             6745 non-null   object        \n",
      " 4   Request_timestamp  6745 non-null   object        \n",
      " 5   Drop_timestamp     2831 non-null   object        \n",
      " 6   Request_Date_Time  6745 non-null   datetime64[ns]\n",
      " 7   Drop_Date_Time     2831 non-null   datetime64[ns]\n",
      "dtypes: datetime64[ns](2), float64(1), int64(1), object(4)\n",
      "memory usage: 421.7+ KB\n"
     ]
    }
   ],
   "source": [
    "uber.info()"
   ]
  },
  {
   "cell_type": "markdown",
   "id": "80d06d06",
   "metadata": {},
   "source": [
    "Successfully created new columns with Datetime type."
   ]
  },
  {
   "cell_type": "markdown",
   "id": "109365a5",
   "metadata": {},
   "source": [
    "***Dropping 'Request_timestamp' and 'Drop_timestamp' as it is not required further***"
   ]
  },
  {
   "cell_type": "code",
   "execution_count": 16,
   "id": "889e7c9d",
   "metadata": {},
   "outputs": [
    {
     "data": {
      "text/html": [
       "<div>\n",
       "<style scoped>\n",
       "    .dataframe tbody tr th:only-of-type {\n",
       "        vertical-align: middle;\n",
       "    }\n",
       "\n",
       "    .dataframe tbody tr th {\n",
       "        vertical-align: top;\n",
       "    }\n",
       "\n",
       "    .dataframe thead th {\n",
       "        text-align: right;\n",
       "    }\n",
       "</style>\n",
       "<table border=\"1\" class=\"dataframe\">\n",
       "  <thead>\n",
       "    <tr style=\"text-align: right;\">\n",
       "      <th></th>\n",
       "      <th>Request_id</th>\n",
       "      <th>Pickup_point</th>\n",
       "      <th>Driver_id</th>\n",
       "      <th>Status</th>\n",
       "      <th>Request_Date_Time</th>\n",
       "      <th>Drop_Date_Time</th>\n",
       "    </tr>\n",
       "  </thead>\n",
       "  <tbody>\n",
       "    <tr>\n",
       "      <th>0</th>\n",
       "      <td>619</td>\n",
       "      <td>Airport</td>\n",
       "      <td>1.0</td>\n",
       "      <td>Trip Completed</td>\n",
       "      <td>2016-07-11 11:51:00</td>\n",
       "      <td>2016-07-11 13:00:00</td>\n",
       "    </tr>\n",
       "    <tr>\n",
       "      <th>1</th>\n",
       "      <td>867</td>\n",
       "      <td>Airport</td>\n",
       "      <td>1.0</td>\n",
       "      <td>Trip Completed</td>\n",
       "      <td>2016-07-11 17:57:00</td>\n",
       "      <td>2016-07-11 18:47:00</td>\n",
       "    </tr>\n",
       "    <tr>\n",
       "      <th>2</th>\n",
       "      <td>1807</td>\n",
       "      <td>City</td>\n",
       "      <td>1.0</td>\n",
       "      <td>Trip Completed</td>\n",
       "      <td>2016-07-12 09:17:00</td>\n",
       "      <td>2016-07-12 09:58:00</td>\n",
       "    </tr>\n",
       "    <tr>\n",
       "      <th>3</th>\n",
       "      <td>2532</td>\n",
       "      <td>Airport</td>\n",
       "      <td>1.0</td>\n",
       "      <td>Trip Completed</td>\n",
       "      <td>2016-07-12 21:08:00</td>\n",
       "      <td>2016-07-12 22:03:00</td>\n",
       "    </tr>\n",
       "    <tr>\n",
       "      <th>4</th>\n",
       "      <td>3112</td>\n",
       "      <td>City</td>\n",
       "      <td>1.0</td>\n",
       "      <td>Trip Completed</td>\n",
       "      <td>2016-07-13 08:33:16</td>\n",
       "      <td>2016-07-13 09:25:47</td>\n",
       "    </tr>\n",
       "  </tbody>\n",
       "</table>\n",
       "</div>"
      ],
      "text/plain": [
       "   Request_id Pickup_point  Driver_id          Status   Request_Date_Time  \\\n",
       "0         619      Airport        1.0  Trip Completed 2016-07-11 11:51:00   \n",
       "1         867      Airport        1.0  Trip Completed 2016-07-11 17:57:00   \n",
       "2        1807         City        1.0  Trip Completed 2016-07-12 09:17:00   \n",
       "3        2532      Airport        1.0  Trip Completed 2016-07-12 21:08:00   \n",
       "4        3112         City        1.0  Trip Completed 2016-07-13 08:33:16   \n",
       "\n",
       "       Drop_Date_Time  \n",
       "0 2016-07-11 13:00:00  \n",
       "1 2016-07-11 18:47:00  \n",
       "2 2016-07-12 09:58:00  \n",
       "3 2016-07-12 22:03:00  \n",
       "4 2016-07-13 09:25:47  "
      ]
     },
     "execution_count": 16,
     "metadata": {},
     "output_type": "execute_result"
    }
   ],
   "source": [
    "uber = uber.drop('Request_timestamp', axis = 1)\n",
    "uber = uber.drop('Drop_timestamp', axis = 1)\n",
    "uber.head()"
   ]
  },
  {
   "cell_type": "markdown",
   "id": "9fd2bd1d",
   "metadata": {},
   "source": [
    "***Inspecting dataframe after the dropping columns***"
   ]
  },
  {
   "cell_type": "code",
   "execution_count": 17,
   "id": "2cfebdc6",
   "metadata": {},
   "outputs": [
    {
     "data": {
      "text/plain": [
       "(6745, 6)"
      ]
     },
     "execution_count": 17,
     "metadata": {},
     "output_type": "execute_result"
    }
   ],
   "source": [
    "uber.shape"
   ]
  },
  {
   "cell_type": "code",
   "execution_count": 18,
   "id": "19b441d4",
   "metadata": {},
   "outputs": [
    {
     "name": "stdout",
     "output_type": "stream",
     "text": [
      "<class 'pandas.core.frame.DataFrame'>\n",
      "RangeIndex: 6745 entries, 0 to 6744\n",
      "Data columns (total 6 columns):\n",
      " #   Column             Non-Null Count  Dtype         \n",
      "---  ------             --------------  -----         \n",
      " 0   Request_id         6745 non-null   int64         \n",
      " 1   Pickup_point       6745 non-null   object        \n",
      " 2   Driver_id          4095 non-null   float64       \n",
      " 3   Status             6745 non-null   object        \n",
      " 4   Request_Date_Time  6745 non-null   datetime64[ns]\n",
      " 5   Drop_Date_Time     2831 non-null   datetime64[ns]\n",
      "dtypes: datetime64[ns](2), float64(1), int64(1), object(2)\n",
      "memory usage: 316.3+ KB\n"
     ]
    }
   ],
   "source": [
    "uber.info()"
   ]
  },
  {
   "cell_type": "markdown",
   "id": "5a2eafac",
   "metadata": {},
   "source": [
    "***1) Handling 'Request_Date_Time' Column***"
   ]
  },
  {
   "cell_type": "markdown",
   "id": "af6270c7",
   "metadata": {},
   "source": [
    "***Checking if there is any NA's coersed becaused of invalid values in Column***"
   ]
  },
  {
   "cell_type": "code",
   "execution_count": 19,
   "id": "821698e3",
   "metadata": {},
   "outputs": [
    {
     "data": {
      "text/plain": [
       "0"
      ]
     },
     "execution_count": 19,
     "metadata": {},
     "output_type": "execute_result"
    }
   ],
   "source": [
    "uber['Request_Date_Time'].isna().sum()"
   ]
  },
  {
   "cell_type": "markdown",
   "id": "cdb4cee7",
   "metadata": {},
   "source": [
    "***Extracting Date and Time from 'Request_Date_Time'***"
   ]
  },
  {
   "cell_type": "code",
   "execution_count": 20,
   "id": "de7c0fa3",
   "metadata": {},
   "outputs": [
    {
     "data": {
      "text/html": [
       "<div>\n",
       "<style scoped>\n",
       "    .dataframe tbody tr th:only-of-type {\n",
       "        vertical-align: middle;\n",
       "    }\n",
       "\n",
       "    .dataframe tbody tr th {\n",
       "        vertical-align: top;\n",
       "    }\n",
       "\n",
       "    .dataframe thead th {\n",
       "        text-align: right;\n",
       "    }\n",
       "</style>\n",
       "<table border=\"1\" class=\"dataframe\">\n",
       "  <thead>\n",
       "    <tr style=\"text-align: right;\">\n",
       "      <th></th>\n",
       "      <th>Request_id</th>\n",
       "      <th>Pickup_point</th>\n",
       "      <th>Driver_id</th>\n",
       "      <th>Status</th>\n",
       "      <th>Request_Date_Time</th>\n",
       "      <th>Drop_Date_Time</th>\n",
       "      <th>Request_Date</th>\n",
       "      <th>Request_Time</th>\n",
       "    </tr>\n",
       "  </thead>\n",
       "  <tbody>\n",
       "    <tr>\n",
       "      <th>0</th>\n",
       "      <td>619</td>\n",
       "      <td>Airport</td>\n",
       "      <td>1.0</td>\n",
       "      <td>Trip Completed</td>\n",
       "      <td>2016-07-11 11:51:00</td>\n",
       "      <td>2016-07-11 13:00:00</td>\n",
       "      <td>2016-07-11</td>\n",
       "      <td>11:51:00</td>\n",
       "    </tr>\n",
       "    <tr>\n",
       "      <th>1</th>\n",
       "      <td>867</td>\n",
       "      <td>Airport</td>\n",
       "      <td>1.0</td>\n",
       "      <td>Trip Completed</td>\n",
       "      <td>2016-07-11 17:57:00</td>\n",
       "      <td>2016-07-11 18:47:00</td>\n",
       "      <td>2016-07-11</td>\n",
       "      <td>17:57:00</td>\n",
       "    </tr>\n",
       "    <tr>\n",
       "      <th>2</th>\n",
       "      <td>1807</td>\n",
       "      <td>City</td>\n",
       "      <td>1.0</td>\n",
       "      <td>Trip Completed</td>\n",
       "      <td>2016-07-12 09:17:00</td>\n",
       "      <td>2016-07-12 09:58:00</td>\n",
       "      <td>2016-07-12</td>\n",
       "      <td>09:17:00</td>\n",
       "    </tr>\n",
       "    <tr>\n",
       "      <th>3</th>\n",
       "      <td>2532</td>\n",
       "      <td>Airport</td>\n",
       "      <td>1.0</td>\n",
       "      <td>Trip Completed</td>\n",
       "      <td>2016-07-12 21:08:00</td>\n",
       "      <td>2016-07-12 22:03:00</td>\n",
       "      <td>2016-07-12</td>\n",
       "      <td>21:08:00</td>\n",
       "    </tr>\n",
       "    <tr>\n",
       "      <th>4</th>\n",
       "      <td>3112</td>\n",
       "      <td>City</td>\n",
       "      <td>1.0</td>\n",
       "      <td>Trip Completed</td>\n",
       "      <td>2016-07-13 08:33:16</td>\n",
       "      <td>2016-07-13 09:25:47</td>\n",
       "      <td>2016-07-13</td>\n",
       "      <td>08:33:16</td>\n",
       "    </tr>\n",
       "  </tbody>\n",
       "</table>\n",
       "</div>"
      ],
      "text/plain": [
       "   Request_id Pickup_point  Driver_id          Status   Request_Date_Time  \\\n",
       "0         619      Airport        1.0  Trip Completed 2016-07-11 11:51:00   \n",
       "1         867      Airport        1.0  Trip Completed 2016-07-11 17:57:00   \n",
       "2        1807         City        1.0  Trip Completed 2016-07-12 09:17:00   \n",
       "3        2532      Airport        1.0  Trip Completed 2016-07-12 21:08:00   \n",
       "4        3112         City        1.0  Trip Completed 2016-07-13 08:33:16   \n",
       "\n",
       "       Drop_Date_Time Request_Date Request_Time  \n",
       "0 2016-07-11 13:00:00   2016-07-11     11:51:00  \n",
       "1 2016-07-11 18:47:00   2016-07-11     17:57:00  \n",
       "2 2016-07-12 09:58:00   2016-07-12     09:17:00  \n",
       "3 2016-07-12 22:03:00   2016-07-12     21:08:00  \n",
       "4 2016-07-13 09:25:47   2016-07-13     08:33:16  "
      ]
     },
     "execution_count": 20,
     "metadata": {},
     "output_type": "execute_result"
    }
   ],
   "source": [
    "uber['Request_Date'] = uber['Request_Date_Time'].dt.date\n",
    "uber['Request_Time'] = uber['Request_Date_Time'].dt.time\n",
    "uber.head()"
   ]
  },
  {
   "cell_type": "markdown",
   "id": "b4e44859",
   "metadata": {},
   "source": [
    "***Extracting day of the week from 'Request_Date_Time'***"
   ]
  },
  {
   "cell_type": "code",
   "execution_count": 21,
   "id": "75d47fdb",
   "metadata": {},
   "outputs": [
    {
     "data": {
      "text/html": [
       "<div>\n",
       "<style scoped>\n",
       "    .dataframe tbody tr th:only-of-type {\n",
       "        vertical-align: middle;\n",
       "    }\n",
       "\n",
       "    .dataframe tbody tr th {\n",
       "        vertical-align: top;\n",
       "    }\n",
       "\n",
       "    .dataframe thead th {\n",
       "        text-align: right;\n",
       "    }\n",
       "</style>\n",
       "<table border=\"1\" class=\"dataframe\">\n",
       "  <thead>\n",
       "    <tr style=\"text-align: right;\">\n",
       "      <th></th>\n",
       "      <th>Request_id</th>\n",
       "      <th>Pickup_point</th>\n",
       "      <th>Driver_id</th>\n",
       "      <th>Status</th>\n",
       "      <th>Request_Date_Time</th>\n",
       "      <th>Drop_Date_Time</th>\n",
       "      <th>Request_Date</th>\n",
       "      <th>Request_Time</th>\n",
       "      <th>Request_DayOfWeek</th>\n",
       "    </tr>\n",
       "  </thead>\n",
       "  <tbody>\n",
       "    <tr>\n",
       "      <th>0</th>\n",
       "      <td>619</td>\n",
       "      <td>Airport</td>\n",
       "      <td>1.0</td>\n",
       "      <td>Trip Completed</td>\n",
       "      <td>2016-07-11 11:51:00</td>\n",
       "      <td>2016-07-11 13:00:00</td>\n",
       "      <td>2016-07-11</td>\n",
       "      <td>11:51:00</td>\n",
       "      <td>Monday</td>\n",
       "    </tr>\n",
       "    <tr>\n",
       "      <th>1</th>\n",
       "      <td>867</td>\n",
       "      <td>Airport</td>\n",
       "      <td>1.0</td>\n",
       "      <td>Trip Completed</td>\n",
       "      <td>2016-07-11 17:57:00</td>\n",
       "      <td>2016-07-11 18:47:00</td>\n",
       "      <td>2016-07-11</td>\n",
       "      <td>17:57:00</td>\n",
       "      <td>Monday</td>\n",
       "    </tr>\n",
       "    <tr>\n",
       "      <th>2</th>\n",
       "      <td>1807</td>\n",
       "      <td>City</td>\n",
       "      <td>1.0</td>\n",
       "      <td>Trip Completed</td>\n",
       "      <td>2016-07-12 09:17:00</td>\n",
       "      <td>2016-07-12 09:58:00</td>\n",
       "      <td>2016-07-12</td>\n",
       "      <td>09:17:00</td>\n",
       "      <td>Tuesday</td>\n",
       "    </tr>\n",
       "    <tr>\n",
       "      <th>3</th>\n",
       "      <td>2532</td>\n",
       "      <td>Airport</td>\n",
       "      <td>1.0</td>\n",
       "      <td>Trip Completed</td>\n",
       "      <td>2016-07-12 21:08:00</td>\n",
       "      <td>2016-07-12 22:03:00</td>\n",
       "      <td>2016-07-12</td>\n",
       "      <td>21:08:00</td>\n",
       "      <td>Tuesday</td>\n",
       "    </tr>\n",
       "    <tr>\n",
       "      <th>4</th>\n",
       "      <td>3112</td>\n",
       "      <td>City</td>\n",
       "      <td>1.0</td>\n",
       "      <td>Trip Completed</td>\n",
       "      <td>2016-07-13 08:33:16</td>\n",
       "      <td>2016-07-13 09:25:47</td>\n",
       "      <td>2016-07-13</td>\n",
       "      <td>08:33:16</td>\n",
       "      <td>Wednesday</td>\n",
       "    </tr>\n",
       "  </tbody>\n",
       "</table>\n",
       "</div>"
      ],
      "text/plain": [
       "   Request_id Pickup_point  Driver_id          Status   Request_Date_Time  \\\n",
       "0         619      Airport        1.0  Trip Completed 2016-07-11 11:51:00   \n",
       "1         867      Airport        1.0  Trip Completed 2016-07-11 17:57:00   \n",
       "2        1807         City        1.0  Trip Completed 2016-07-12 09:17:00   \n",
       "3        2532      Airport        1.0  Trip Completed 2016-07-12 21:08:00   \n",
       "4        3112         City        1.0  Trip Completed 2016-07-13 08:33:16   \n",
       "\n",
       "       Drop_Date_Time Request_Date Request_Time Request_DayOfWeek  \n",
       "0 2016-07-11 13:00:00   2016-07-11     11:51:00            Monday  \n",
       "1 2016-07-11 18:47:00   2016-07-11     17:57:00            Monday  \n",
       "2 2016-07-12 09:58:00   2016-07-12     09:17:00           Tuesday  \n",
       "3 2016-07-12 22:03:00   2016-07-12     21:08:00           Tuesday  \n",
       "4 2016-07-13 09:25:47   2016-07-13     08:33:16         Wednesday  "
      ]
     },
     "execution_count": 21,
     "metadata": {},
     "output_type": "execute_result"
    }
   ],
   "source": [
    "uber['Request_DayOfWeek'] = uber['Request_Date_Time'].dt.strftime(\"%A\")\n",
    "uber.head()"
   ]
  },
  {
   "cell_type": "markdown",
   "id": "54549ad1",
   "metadata": {},
   "source": [
    "***Extracting Hour from 'Request_Date_Time'***"
   ]
  },
  {
   "cell_type": "code",
   "execution_count": 22,
   "id": "30af36c5",
   "metadata": {},
   "outputs": [
    {
     "data": {
      "text/html": [
       "<div>\n",
       "<style scoped>\n",
       "    .dataframe tbody tr th:only-of-type {\n",
       "        vertical-align: middle;\n",
       "    }\n",
       "\n",
       "    .dataframe tbody tr th {\n",
       "        vertical-align: top;\n",
       "    }\n",
       "\n",
       "    .dataframe thead th {\n",
       "        text-align: right;\n",
       "    }\n",
       "</style>\n",
       "<table border=\"1\" class=\"dataframe\">\n",
       "  <thead>\n",
       "    <tr style=\"text-align: right;\">\n",
       "      <th></th>\n",
       "      <th>Request_id</th>\n",
       "      <th>Pickup_point</th>\n",
       "      <th>Driver_id</th>\n",
       "      <th>Status</th>\n",
       "      <th>Request_Date_Time</th>\n",
       "      <th>Drop_Date_Time</th>\n",
       "      <th>Request_Date</th>\n",
       "      <th>Request_Time</th>\n",
       "      <th>Request_DayOfWeek</th>\n",
       "      <th>Request_Hours</th>\n",
       "    </tr>\n",
       "  </thead>\n",
       "  <tbody>\n",
       "    <tr>\n",
       "      <th>0</th>\n",
       "      <td>619</td>\n",
       "      <td>Airport</td>\n",
       "      <td>1.0</td>\n",
       "      <td>Trip Completed</td>\n",
       "      <td>2016-07-11 11:51:00</td>\n",
       "      <td>2016-07-11 13:00:00</td>\n",
       "      <td>2016-07-11</td>\n",
       "      <td>11:51:00</td>\n",
       "      <td>Monday</td>\n",
       "      <td>11</td>\n",
       "    </tr>\n",
       "    <tr>\n",
       "      <th>1</th>\n",
       "      <td>867</td>\n",
       "      <td>Airport</td>\n",
       "      <td>1.0</td>\n",
       "      <td>Trip Completed</td>\n",
       "      <td>2016-07-11 17:57:00</td>\n",
       "      <td>2016-07-11 18:47:00</td>\n",
       "      <td>2016-07-11</td>\n",
       "      <td>17:57:00</td>\n",
       "      <td>Monday</td>\n",
       "      <td>17</td>\n",
       "    </tr>\n",
       "    <tr>\n",
       "      <th>2</th>\n",
       "      <td>1807</td>\n",
       "      <td>City</td>\n",
       "      <td>1.0</td>\n",
       "      <td>Trip Completed</td>\n",
       "      <td>2016-07-12 09:17:00</td>\n",
       "      <td>2016-07-12 09:58:00</td>\n",
       "      <td>2016-07-12</td>\n",
       "      <td>09:17:00</td>\n",
       "      <td>Tuesday</td>\n",
       "      <td>9</td>\n",
       "    </tr>\n",
       "    <tr>\n",
       "      <th>3</th>\n",
       "      <td>2532</td>\n",
       "      <td>Airport</td>\n",
       "      <td>1.0</td>\n",
       "      <td>Trip Completed</td>\n",
       "      <td>2016-07-12 21:08:00</td>\n",
       "      <td>2016-07-12 22:03:00</td>\n",
       "      <td>2016-07-12</td>\n",
       "      <td>21:08:00</td>\n",
       "      <td>Tuesday</td>\n",
       "      <td>21</td>\n",
       "    </tr>\n",
       "    <tr>\n",
       "      <th>4</th>\n",
       "      <td>3112</td>\n",
       "      <td>City</td>\n",
       "      <td>1.0</td>\n",
       "      <td>Trip Completed</td>\n",
       "      <td>2016-07-13 08:33:16</td>\n",
       "      <td>2016-07-13 09:25:47</td>\n",
       "      <td>2016-07-13</td>\n",
       "      <td>08:33:16</td>\n",
       "      <td>Wednesday</td>\n",
       "      <td>8</td>\n",
       "    </tr>\n",
       "  </tbody>\n",
       "</table>\n",
       "</div>"
      ],
      "text/plain": [
       "   Request_id Pickup_point  Driver_id          Status   Request_Date_Time  \\\n",
       "0         619      Airport        1.0  Trip Completed 2016-07-11 11:51:00   \n",
       "1         867      Airport        1.0  Trip Completed 2016-07-11 17:57:00   \n",
       "2        1807         City        1.0  Trip Completed 2016-07-12 09:17:00   \n",
       "3        2532      Airport        1.0  Trip Completed 2016-07-12 21:08:00   \n",
       "4        3112         City        1.0  Trip Completed 2016-07-13 08:33:16   \n",
       "\n",
       "       Drop_Date_Time Request_Date Request_Time Request_DayOfWeek  \\\n",
       "0 2016-07-11 13:00:00   2016-07-11     11:51:00            Monday   \n",
       "1 2016-07-11 18:47:00   2016-07-11     17:57:00            Monday   \n",
       "2 2016-07-12 09:58:00   2016-07-12     09:17:00           Tuesday   \n",
       "3 2016-07-12 22:03:00   2016-07-12     21:08:00           Tuesday   \n",
       "4 2016-07-13 09:25:47   2016-07-13     08:33:16         Wednesday   \n",
       "\n",
       "   Request_Hours  \n",
       "0             11  \n",
       "1             17  \n",
       "2              9  \n",
       "3             21  \n",
       "4              8  "
      ]
     },
     "execution_count": 22,
     "metadata": {},
     "output_type": "execute_result"
    }
   ],
   "source": [
    "uber['Request_Hours'] = uber['Request_Date_Time'].dt.hour\n",
    "uber.head()"
   ]
  },
  {
   "cell_type": "markdown",
   "id": "4b673c70",
   "metadata": {},
   "source": [
    "***Creating slots or bins of 'Request_Hours'***"
   ]
  },
  {
   "cell_type": "code",
   "execution_count": 23,
   "id": "96ebb7ea",
   "metadata": {},
   "outputs": [
    {
     "data": {
      "text/html": [
       "<div>\n",
       "<style scoped>\n",
       "    .dataframe tbody tr th:only-of-type {\n",
       "        vertical-align: middle;\n",
       "    }\n",
       "\n",
       "    .dataframe tbody tr th {\n",
       "        vertical-align: top;\n",
       "    }\n",
       "\n",
       "    .dataframe thead th {\n",
       "        text-align: right;\n",
       "    }\n",
       "</style>\n",
       "<table border=\"1\" class=\"dataframe\">\n",
       "  <thead>\n",
       "    <tr style=\"text-align: right;\">\n",
       "      <th></th>\n",
       "      <th>Request_id</th>\n",
       "      <th>Pickup_point</th>\n",
       "      <th>Driver_id</th>\n",
       "      <th>Status</th>\n",
       "      <th>Request_Date_Time</th>\n",
       "      <th>Drop_Date_Time</th>\n",
       "      <th>Request_Date</th>\n",
       "      <th>Request_Time</th>\n",
       "      <th>Request_DayOfWeek</th>\n",
       "      <th>Request_Hours</th>\n",
       "      <th>Request_Timeslot</th>\n",
       "    </tr>\n",
       "  </thead>\n",
       "  <tbody>\n",
       "    <tr>\n",
       "      <th>0</th>\n",
       "      <td>619</td>\n",
       "      <td>Airport</td>\n",
       "      <td>1.0</td>\n",
       "      <td>Trip Completed</td>\n",
       "      <td>2016-07-11 11:51:00</td>\n",
       "      <td>2016-07-11 13:00:00</td>\n",
       "      <td>2016-07-11</td>\n",
       "      <td>11:51:00</td>\n",
       "      <td>Monday</td>\n",
       "      <td>11</td>\n",
       "      <td>Morning</td>\n",
       "    </tr>\n",
       "    <tr>\n",
       "      <th>1</th>\n",
       "      <td>867</td>\n",
       "      <td>Airport</td>\n",
       "      <td>1.0</td>\n",
       "      <td>Trip Completed</td>\n",
       "      <td>2016-07-11 17:57:00</td>\n",
       "      <td>2016-07-11 18:47:00</td>\n",
       "      <td>2016-07-11</td>\n",
       "      <td>17:57:00</td>\n",
       "      <td>Monday</td>\n",
       "      <td>17</td>\n",
       "      <td>Evening</td>\n",
       "    </tr>\n",
       "    <tr>\n",
       "      <th>2</th>\n",
       "      <td>1807</td>\n",
       "      <td>City</td>\n",
       "      <td>1.0</td>\n",
       "      <td>Trip Completed</td>\n",
       "      <td>2016-07-12 09:17:00</td>\n",
       "      <td>2016-07-12 09:58:00</td>\n",
       "      <td>2016-07-12</td>\n",
       "      <td>09:17:00</td>\n",
       "      <td>Tuesday</td>\n",
       "      <td>9</td>\n",
       "      <td>Morning</td>\n",
       "    </tr>\n",
       "    <tr>\n",
       "      <th>3</th>\n",
       "      <td>2532</td>\n",
       "      <td>Airport</td>\n",
       "      <td>1.0</td>\n",
       "      <td>Trip Completed</td>\n",
       "      <td>2016-07-12 21:08:00</td>\n",
       "      <td>2016-07-12 22:03:00</td>\n",
       "      <td>2016-07-12</td>\n",
       "      <td>21:08:00</td>\n",
       "      <td>Tuesday</td>\n",
       "      <td>21</td>\n",
       "      <td>Night</td>\n",
       "    </tr>\n",
       "    <tr>\n",
       "      <th>4</th>\n",
       "      <td>3112</td>\n",
       "      <td>City</td>\n",
       "      <td>1.0</td>\n",
       "      <td>Trip Completed</td>\n",
       "      <td>2016-07-13 08:33:16</td>\n",
       "      <td>2016-07-13 09:25:47</td>\n",
       "      <td>2016-07-13</td>\n",
       "      <td>08:33:16</td>\n",
       "      <td>Wednesday</td>\n",
       "      <td>8</td>\n",
       "      <td>Morning</td>\n",
       "    </tr>\n",
       "    <tr>\n",
       "      <th>5</th>\n",
       "      <td>3879</td>\n",
       "      <td>Airport</td>\n",
       "      <td>1.0</td>\n",
       "      <td>Trip Completed</td>\n",
       "      <td>2016-07-13 21:57:28</td>\n",
       "      <td>2016-07-13 22:28:59</td>\n",
       "      <td>2016-07-13</td>\n",
       "      <td>21:57:28</td>\n",
       "      <td>Wednesday</td>\n",
       "      <td>21</td>\n",
       "      <td>Night</td>\n",
       "    </tr>\n",
       "    <tr>\n",
       "      <th>6</th>\n",
       "      <td>4270</td>\n",
       "      <td>Airport</td>\n",
       "      <td>1.0</td>\n",
       "      <td>Trip Completed</td>\n",
       "      <td>2016-07-14 06:15:32</td>\n",
       "      <td>2016-07-14 07:13:15</td>\n",
       "      <td>2016-07-14</td>\n",
       "      <td>06:15:32</td>\n",
       "      <td>Thursday</td>\n",
       "      <td>6</td>\n",
       "      <td>Morning</td>\n",
       "    </tr>\n",
       "    <tr>\n",
       "      <th>7</th>\n",
       "      <td>5510</td>\n",
       "      <td>Airport</td>\n",
       "      <td>1.0</td>\n",
       "      <td>Trip Completed</td>\n",
       "      <td>2016-07-15 05:11:52</td>\n",
       "      <td>2016-07-15 06:07:52</td>\n",
       "      <td>2016-07-15</td>\n",
       "      <td>05:11:52</td>\n",
       "      <td>Friday</td>\n",
       "      <td>5</td>\n",
       "      <td>Early Morning</td>\n",
       "    </tr>\n",
       "    <tr>\n",
       "      <th>8</th>\n",
       "      <td>6248</td>\n",
       "      <td>City</td>\n",
       "      <td>1.0</td>\n",
       "      <td>Trip Completed</td>\n",
       "      <td>2016-07-15 17:57:27</td>\n",
       "      <td>2016-07-15 18:50:51</td>\n",
       "      <td>2016-07-15</td>\n",
       "      <td>17:57:27</td>\n",
       "      <td>Friday</td>\n",
       "      <td>17</td>\n",
       "      <td>Evening</td>\n",
       "    </tr>\n",
       "    <tr>\n",
       "      <th>9</th>\n",
       "      <td>267</td>\n",
       "      <td>City</td>\n",
       "      <td>2.0</td>\n",
       "      <td>Trip Completed</td>\n",
       "      <td>2016-07-11 06:46:00</td>\n",
       "      <td>2016-07-11 07:25:00</td>\n",
       "      <td>2016-07-11</td>\n",
       "      <td>06:46:00</td>\n",
       "      <td>Monday</td>\n",
       "      <td>6</td>\n",
       "      <td>Morning</td>\n",
       "    </tr>\n",
       "    <tr>\n",
       "      <th>10</th>\n",
       "      <td>1467</td>\n",
       "      <td>Airport</td>\n",
       "      <td>2.0</td>\n",
       "      <td>Trip Completed</td>\n",
       "      <td>2016-07-12 05:08:00</td>\n",
       "      <td>2016-07-12 06:02:00</td>\n",
       "      <td>2016-07-12</td>\n",
       "      <td>05:08:00</td>\n",
       "      <td>Tuesday</td>\n",
       "      <td>5</td>\n",
       "      <td>Early Morning</td>\n",
       "    </tr>\n",
       "    <tr>\n",
       "      <th>11</th>\n",
       "      <td>1983</td>\n",
       "      <td>City</td>\n",
       "      <td>2.0</td>\n",
       "      <td>Trip Completed</td>\n",
       "      <td>2016-07-12 12:30:00</td>\n",
       "      <td>2016-07-12 12:57:00</td>\n",
       "      <td>2016-07-12</td>\n",
       "      <td>12:30:00</td>\n",
       "      <td>Tuesday</td>\n",
       "      <td>12</td>\n",
       "      <td>Afternoon</td>\n",
       "    </tr>\n",
       "    <tr>\n",
       "      <th>12</th>\n",
       "      <td>2784</td>\n",
       "      <td>Airport</td>\n",
       "      <td>2.0</td>\n",
       "      <td>Trip Completed</td>\n",
       "      <td>2016-07-13 04:49:20</td>\n",
       "      <td>2016-07-13 05:23:03</td>\n",
       "      <td>2016-07-13</td>\n",
       "      <td>04:49:20</td>\n",
       "      <td>Wednesday</td>\n",
       "      <td>4</td>\n",
       "      <td>Early Morning</td>\n",
       "    </tr>\n",
       "    <tr>\n",
       "      <th>13</th>\n",
       "      <td>3075</td>\n",
       "      <td>City</td>\n",
       "      <td>2.0</td>\n",
       "      <td>Trip Completed</td>\n",
       "      <td>2016-07-13 08:02:53</td>\n",
       "      <td>2016-07-13 09:16:19</td>\n",
       "      <td>2016-07-13</td>\n",
       "      <td>08:02:53</td>\n",
       "      <td>Wednesday</td>\n",
       "      <td>8</td>\n",
       "      <td>Morning</td>\n",
       "    </tr>\n",
       "    <tr>\n",
       "      <th>14</th>\n",
       "      <td>3379</td>\n",
       "      <td>City</td>\n",
       "      <td>2.0</td>\n",
       "      <td>Trip Completed</td>\n",
       "      <td>2016-07-13 14:23:02</td>\n",
       "      <td>2016-07-13 15:35:18</td>\n",
       "      <td>2016-07-13</td>\n",
       "      <td>14:23:02</td>\n",
       "      <td>Wednesday</td>\n",
       "      <td>14</td>\n",
       "      <td>Afternoon</td>\n",
       "    </tr>\n",
       "    <tr>\n",
       "      <th>15</th>\n",
       "      <td>3482</td>\n",
       "      <td>Airport</td>\n",
       "      <td>2.0</td>\n",
       "      <td>Trip Completed</td>\n",
       "      <td>2016-07-13 17:23:18</td>\n",
       "      <td>2016-07-13 18:20:51</td>\n",
       "      <td>2016-07-13</td>\n",
       "      <td>17:23:18</td>\n",
       "      <td>Wednesday</td>\n",
       "      <td>17</td>\n",
       "      <td>Evening</td>\n",
       "    </tr>\n",
       "    <tr>\n",
       "      <th>16</th>\n",
       "      <td>4652</td>\n",
       "      <td>City</td>\n",
       "      <td>2.0</td>\n",
       "      <td>Trip Completed</td>\n",
       "      <td>2016-07-14 12:01:02</td>\n",
       "      <td>2016-07-14 12:36:46</td>\n",
       "      <td>2016-07-14</td>\n",
       "      <td>12:01:02</td>\n",
       "      <td>Thursday</td>\n",
       "      <td>12</td>\n",
       "      <td>Afternoon</td>\n",
       "    </tr>\n",
       "    <tr>\n",
       "      <th>17</th>\n",
       "      <td>5335</td>\n",
       "      <td>Airport</td>\n",
       "      <td>2.0</td>\n",
       "      <td>Trip Completed</td>\n",
       "      <td>2016-07-14 22:24:13</td>\n",
       "      <td>2016-07-14 23:18:52</td>\n",
       "      <td>2016-07-14</td>\n",
       "      <td>22:24:13</td>\n",
       "      <td>Thursday</td>\n",
       "      <td>22</td>\n",
       "      <td>Night</td>\n",
       "    </tr>\n",
       "    <tr>\n",
       "      <th>18</th>\n",
       "      <td>535</td>\n",
       "      <td>Airport</td>\n",
       "      <td>3.0</td>\n",
       "      <td>Trip Completed</td>\n",
       "      <td>2016-07-11 10:00:00</td>\n",
       "      <td>2016-07-11 10:31:00</td>\n",
       "      <td>2016-07-11</td>\n",
       "      <td>10:00:00</td>\n",
       "      <td>Monday</td>\n",
       "      <td>10</td>\n",
       "      <td>Morning</td>\n",
       "    </tr>\n",
       "    <tr>\n",
       "      <th>19</th>\n",
       "      <td>960</td>\n",
       "      <td>Airport</td>\n",
       "      <td>3.0</td>\n",
       "      <td>Trip Completed</td>\n",
       "      <td>2016-07-11 18:45:00</td>\n",
       "      <td>2016-07-11 19:23:00</td>\n",
       "      <td>2016-07-11</td>\n",
       "      <td>18:45:00</td>\n",
       "      <td>Monday</td>\n",
       "      <td>18</td>\n",
       "      <td>Evening</td>\n",
       "    </tr>\n",
       "    <tr>\n",
       "      <th>20</th>\n",
       "      <td>1934</td>\n",
       "      <td>Airport</td>\n",
       "      <td>3.0</td>\n",
       "      <td>Trip Completed</td>\n",
       "      <td>2016-07-12 11:17:00</td>\n",
       "      <td>2016-07-12 12:23:00</td>\n",
       "      <td>2016-07-12</td>\n",
       "      <td>11:17:00</td>\n",
       "      <td>Tuesday</td>\n",
       "      <td>11</td>\n",
       "      <td>Morning</td>\n",
       "    </tr>\n",
       "    <tr>\n",
       "      <th>21</th>\n",
       "      <td>2083</td>\n",
       "      <td>Airport</td>\n",
       "      <td>3.0</td>\n",
       "      <td>Trip Completed</td>\n",
       "      <td>2016-07-12 15:46:00</td>\n",
       "      <td>2016-07-12 16:40:00</td>\n",
       "      <td>2016-07-12</td>\n",
       "      <td>15:46:00</td>\n",
       "      <td>Tuesday</td>\n",
       "      <td>15</td>\n",
       "      <td>Afternoon</td>\n",
       "    </tr>\n",
       "    <tr>\n",
       "      <th>22</th>\n",
       "      <td>2211</td>\n",
       "      <td>Airport</td>\n",
       "      <td>3.0</td>\n",
       "      <td>Trip Completed</td>\n",
       "      <td>2016-07-12 18:00:00</td>\n",
       "      <td>2016-07-12 18:28:00</td>\n",
       "      <td>2016-07-12</td>\n",
       "      <td>18:00:00</td>\n",
       "      <td>Tuesday</td>\n",
       "      <td>18</td>\n",
       "      <td>Evening</td>\n",
       "    </tr>\n",
       "    <tr>\n",
       "      <th>23</th>\n",
       "      <td>3096</td>\n",
       "      <td>Airport</td>\n",
       "      <td>3.0</td>\n",
       "      <td>Trip Completed</td>\n",
       "      <td>2016-07-13 08:17:29</td>\n",
       "      <td>2016-07-13 09:22:37</td>\n",
       "      <td>2016-07-13</td>\n",
       "      <td>08:17:29</td>\n",
       "      <td>Wednesday</td>\n",
       "      <td>8</td>\n",
       "      <td>Morning</td>\n",
       "    </tr>\n",
       "    <tr>\n",
       "      <th>24</th>\n",
       "      <td>3881</td>\n",
       "      <td>Airport</td>\n",
       "      <td>3.0</td>\n",
       "      <td>Trip Completed</td>\n",
       "      <td>2016-07-13 21:54:18</td>\n",
       "      <td>2016-07-13 22:51:23</td>\n",
       "      <td>2016-07-13</td>\n",
       "      <td>21:54:18</td>\n",
       "      <td>Wednesday</td>\n",
       "      <td>21</td>\n",
       "      <td>Night</td>\n",
       "    </tr>\n",
       "    <tr>\n",
       "      <th>25</th>\n",
       "      <td>5254</td>\n",
       "      <td>City</td>\n",
       "      <td>3.0</td>\n",
       "      <td>Trip Completed</td>\n",
       "      <td>2016-07-14 21:23:03</td>\n",
       "      <td>2016-07-14 22:25:19</td>\n",
       "      <td>2016-07-14</td>\n",
       "      <td>21:23:03</td>\n",
       "      <td>Thursday</td>\n",
       "      <td>21</td>\n",
       "      <td>Night</td>\n",
       "    </tr>\n",
       "    <tr>\n",
       "      <th>26</th>\n",
       "      <td>5434</td>\n",
       "      <td>City</td>\n",
       "      <td>3.0</td>\n",
       "      <td>Trip Completed</td>\n",
       "      <td>2016-07-15 02:41:38</td>\n",
       "      <td>2016-07-15 03:24:43</td>\n",
       "      <td>2016-07-15</td>\n",
       "      <td>02:41:38</td>\n",
       "      <td>Friday</td>\n",
       "      <td>2</td>\n",
       "      <td>Late Night</td>\n",
       "    </tr>\n",
       "    <tr>\n",
       "      <th>27</th>\n",
       "      <td>5916</td>\n",
       "      <td>City</td>\n",
       "      <td>3.0</td>\n",
       "      <td>Trip Completed</td>\n",
       "      <td>2016-07-15 10:00:43</td>\n",
       "      <td>2016-07-15 10:53:06</td>\n",
       "      <td>2016-07-15</td>\n",
       "      <td>10:00:43</td>\n",
       "      <td>Friday</td>\n",
       "      <td>10</td>\n",
       "      <td>Morning</td>\n",
       "    </tr>\n",
       "    <tr>\n",
       "      <th>28</th>\n",
       "      <td>669</td>\n",
       "      <td>City</td>\n",
       "      <td>4.0</td>\n",
       "      <td>Trip Completed</td>\n",
       "      <td>2016-07-11 13:08:00</td>\n",
       "      <td>2016-07-11 13:49:00</td>\n",
       "      <td>2016-07-11</td>\n",
       "      <td>13:08:00</td>\n",
       "      <td>Monday</td>\n",
       "      <td>13</td>\n",
       "      <td>Afternoon</td>\n",
       "    </tr>\n",
       "    <tr>\n",
       "      <th>29</th>\n",
       "      <td>1567</td>\n",
       "      <td>Airport</td>\n",
       "      <td>4.0</td>\n",
       "      <td>Trip Completed</td>\n",
       "      <td>2016-07-12 06:21:00</td>\n",
       "      <td>2016-07-12 07:10:00</td>\n",
       "      <td>2016-07-12</td>\n",
       "      <td>06:21:00</td>\n",
       "      <td>Tuesday</td>\n",
       "      <td>6</td>\n",
       "      <td>Morning</td>\n",
       "    </tr>\n",
       "    <tr>\n",
       "      <th>30</th>\n",
       "      <td>1826</td>\n",
       "      <td>City</td>\n",
       "      <td>4.0</td>\n",
       "      <td>Trip Completed</td>\n",
       "      <td>2016-07-12 09:27:00</td>\n",
       "      <td>2016-07-12 10:27:00</td>\n",
       "      <td>2016-07-12</td>\n",
       "      <td>09:27:00</td>\n",
       "      <td>Tuesday</td>\n",
       "      <td>9</td>\n",
       "      <td>Morning</td>\n",
       "    </tr>\n",
       "    <tr>\n",
       "      <th>31</th>\n",
       "      <td>2102</td>\n",
       "      <td>City</td>\n",
       "      <td>4.0</td>\n",
       "      <td>Trip Completed</td>\n",
       "      <td>2016-07-12 16:09:00</td>\n",
       "      <td>2016-07-12 17:01:00</td>\n",
       "      <td>2016-07-12</td>\n",
       "      <td>16:09:00</td>\n",
       "      <td>Tuesday</td>\n",
       "      <td>16</td>\n",
       "      <td>Evening</td>\n",
       "    </tr>\n",
       "    <tr>\n",
       "      <th>32</th>\n",
       "      <td>2847</td>\n",
       "      <td>Airport</td>\n",
       "      <td>4.0</td>\n",
       "      <td>Trip Completed</td>\n",
       "      <td>2016-07-13 05:34:20</td>\n",
       "      <td>2016-07-13 06:09:59</td>\n",
       "      <td>2016-07-13</td>\n",
       "      <td>05:34:20</td>\n",
       "      <td>Wednesday</td>\n",
       "      <td>5</td>\n",
       "      <td>Early Morning</td>\n",
       "    </tr>\n",
       "    <tr>\n",
       "      <th>33</th>\n",
       "      <td>3722</td>\n",
       "      <td>Airport</td>\n",
       "      <td>4.0</td>\n",
       "      <td>Trip Completed</td>\n",
       "      <td>2016-07-13 19:57:59</td>\n",
       "      <td>2016-07-13 20:32:04</td>\n",
       "      <td>2016-07-13</td>\n",
       "      <td>19:57:59</td>\n",
       "      <td>Wednesday</td>\n",
       "      <td>19</td>\n",
       "      <td>Evening</td>\n",
       "    </tr>\n",
       "    <tr>\n",
       "      <th>34</th>\n",
       "      <td>4075</td>\n",
       "      <td>City</td>\n",
       "      <td>4.0</td>\n",
       "      <td>Trip Completed</td>\n",
       "      <td>2016-07-14 02:17:35</td>\n",
       "      <td>2016-07-14 03:21:38</td>\n",
       "      <td>2016-07-14</td>\n",
       "      <td>02:17:35</td>\n",
       "      <td>Thursday</td>\n",
       "      <td>2</td>\n",
       "      <td>Late Night</td>\n",
       "    </tr>\n",
       "    <tr>\n",
       "      <th>35</th>\n",
       "      <td>4686</td>\n",
       "      <td>City</td>\n",
       "      <td>4.0</td>\n",
       "      <td>Trip Completed</td>\n",
       "      <td>2016-07-14 13:01:10</td>\n",
       "      <td>2016-07-14 13:45:28</td>\n",
       "      <td>2016-07-14</td>\n",
       "      <td>13:01:10</td>\n",
       "      <td>Thursday</td>\n",
       "      <td>13</td>\n",
       "      <td>Afternoon</td>\n",
       "    </tr>\n",
       "    <tr>\n",
       "      <th>36</th>\n",
       "      <td>5771</td>\n",
       "      <td>Airport</td>\n",
       "      <td>4.0</td>\n",
       "      <td>Trip Completed</td>\n",
       "      <td>2016-07-15 08:30:06</td>\n",
       "      <td>2016-07-15 09:37:20</td>\n",
       "      <td>2016-07-15</td>\n",
       "      <td>08:30:06</td>\n",
       "      <td>Friday</td>\n",
       "      <td>8</td>\n",
       "      <td>Morning</td>\n",
       "    </tr>\n",
       "    <tr>\n",
       "      <th>37</th>\n",
       "      <td>6106</td>\n",
       "      <td>Airport</td>\n",
       "      <td>4.0</td>\n",
       "      <td>Trip Completed</td>\n",
       "      <td>2016-07-15 15:01:20</td>\n",
       "      <td>2016-07-15 15:47:31</td>\n",
       "      <td>2016-07-15</td>\n",
       "      <td>15:01:20</td>\n",
       "      <td>Friday</td>\n",
       "      <td>15</td>\n",
       "      <td>Afternoon</td>\n",
       "    </tr>\n",
       "    <tr>\n",
       "      <th>38</th>\n",
       "      <td>312</td>\n",
       "      <td>City</td>\n",
       "      <td>5.0</td>\n",
       "      <td>Trip Completed</td>\n",
       "      <td>2016-07-11 07:27:00</td>\n",
       "      <td>2016-07-11 08:31:00</td>\n",
       "      <td>2016-07-11</td>\n",
       "      <td>07:27:00</td>\n",
       "      <td>Monday</td>\n",
       "      <td>7</td>\n",
       "      <td>Morning</td>\n",
       "    </tr>\n",
       "    <tr>\n",
       "      <th>39</th>\n",
       "      <td>577</td>\n",
       "      <td>Airport</td>\n",
       "      <td>5.0</td>\n",
       "      <td>Trip Completed</td>\n",
       "      <td>2016-07-11 11:03:00</td>\n",
       "      <td>2016-07-11 12:01:00</td>\n",
       "      <td>2016-07-11</td>\n",
       "      <td>11:03:00</td>\n",
       "      <td>Monday</td>\n",
       "      <td>11</td>\n",
       "      <td>Morning</td>\n",
       "    </tr>\n",
       "    <tr>\n",
       "      <th>40</th>\n",
       "      <td>1179</td>\n",
       "      <td>City</td>\n",
       "      <td>5.0</td>\n",
       "      <td>Trip Completed</td>\n",
       "      <td>2016-07-11 20:58:00</td>\n",
       "      <td>2016-07-11 21:45:00</td>\n",
       "      <td>2016-07-11</td>\n",
       "      <td>20:58:00</td>\n",
       "      <td>Monday</td>\n",
       "      <td>20</td>\n",
       "      <td>Night</td>\n",
       "    </tr>\n",
       "    <tr>\n",
       "      <th>41</th>\n",
       "      <td>1756</td>\n",
       "      <td>Airport</td>\n",
       "      <td>5.0</td>\n",
       "      <td>Trip Completed</td>\n",
       "      <td>2016-07-12 08:40:00</td>\n",
       "      <td>2016-07-12 09:23:00</td>\n",
       "      <td>2016-07-12</td>\n",
       "      <td>08:40:00</td>\n",
       "      <td>Tuesday</td>\n",
       "      <td>8</td>\n",
       "      <td>Morning</td>\n",
       "    </tr>\n",
       "    <tr>\n",
       "      <th>42</th>\n",
       "      <td>2052</td>\n",
       "      <td>City</td>\n",
       "      <td>5.0</td>\n",
       "      <td>Trip Completed</td>\n",
       "      <td>2016-07-12 14:48:00</td>\n",
       "      <td>2016-07-12 15:50:00</td>\n",
       "      <td>2016-07-12</td>\n",
       "      <td>14:48:00</td>\n",
       "      <td>Tuesday</td>\n",
       "      <td>14</td>\n",
       "      <td>Afternoon</td>\n",
       "    </tr>\n",
       "    <tr>\n",
       "      <th>43</th>\n",
       "      <td>2559</td>\n",
       "      <td>City</td>\n",
       "      <td>5.0</td>\n",
       "      <td>Trip Completed</td>\n",
       "      <td>2016-07-12 21:32:00</td>\n",
       "      <td>2016-07-12 22:29:00</td>\n",
       "      <td>2016-07-12</td>\n",
       "      <td>21:32:00</td>\n",
       "      <td>Tuesday</td>\n",
       "      <td>21</td>\n",
       "      <td>Night</td>\n",
       "    </tr>\n",
       "    <tr>\n",
       "      <th>44</th>\n",
       "      <td>3014</td>\n",
       "      <td>City</td>\n",
       "      <td>5.0</td>\n",
       "      <td>Trip Completed</td>\n",
       "      <td>2016-07-13 07:28:14</td>\n",
       "      <td>2016-07-13 08:29:47</td>\n",
       "      <td>2016-07-13</td>\n",
       "      <td>07:28:14</td>\n",
       "      <td>Wednesday</td>\n",
       "      <td>7</td>\n",
       "      <td>Morning</td>\n",
       "    </tr>\n",
       "    <tr>\n",
       "      <th>45</th>\n",
       "      <td>3317</td>\n",
       "      <td>City</td>\n",
       "      <td>5.0</td>\n",
       "      <td>Trip Completed</td>\n",
       "      <td>2016-07-13 12:14:27</td>\n",
       "      <td>2016-07-13 12:46:38</td>\n",
       "      <td>2016-07-13</td>\n",
       "      <td>12:14:27</td>\n",
       "      <td>Wednesday</td>\n",
       "      <td>12</td>\n",
       "      <td>Afternoon</td>\n",
       "    </tr>\n",
       "    <tr>\n",
       "      <th>46</th>\n",
       "      <td>4297</td>\n",
       "      <td>City</td>\n",
       "      <td>5.0</td>\n",
       "      <td>Trip Completed</td>\n",
       "      <td>2016-07-14 06:43:01</td>\n",
       "      <td>2016-07-14 07:49:38</td>\n",
       "      <td>2016-07-14</td>\n",
       "      <td>06:43:01</td>\n",
       "      <td>Thursday</td>\n",
       "      <td>6</td>\n",
       "      <td>Morning</td>\n",
       "    </tr>\n",
       "    <tr>\n",
       "      <th>47</th>\n",
       "      <td>5857</td>\n",
       "      <td>Airport</td>\n",
       "      <td>5.0</td>\n",
       "      <td>Trip Completed</td>\n",
       "      <td>2016-07-15 09:08:50</td>\n",
       "      <td>2016-07-15 10:07:07</td>\n",
       "      <td>2016-07-15</td>\n",
       "      <td>09:08:50</td>\n",
       "      <td>Friday</td>\n",
       "      <td>9</td>\n",
       "      <td>Morning</td>\n",
       "    </tr>\n",
       "    <tr>\n",
       "      <th>48</th>\n",
       "      <td>6690</td>\n",
       "      <td>Airport</td>\n",
       "      <td>5.0</td>\n",
       "      <td>Trip Completed</td>\n",
       "      <td>2016-07-15 22:41:41</td>\n",
       "      <td>2016-07-15 23:51:00</td>\n",
       "      <td>2016-07-15</td>\n",
       "      <td>22:41:41</td>\n",
       "      <td>Friday</td>\n",
       "      <td>22</td>\n",
       "      <td>Night</td>\n",
       "    </tr>\n",
       "    <tr>\n",
       "      <th>49</th>\n",
       "      <td>1517</td>\n",
       "      <td>Airport</td>\n",
       "      <td>6.0</td>\n",
       "      <td>Trip Completed</td>\n",
       "      <td>2016-07-12 05:45:00</td>\n",
       "      <td>2016-07-12 06:28:00</td>\n",
       "      <td>2016-07-12</td>\n",
       "      <td>05:45:00</td>\n",
       "      <td>Tuesday</td>\n",
       "      <td>5</td>\n",
       "      <td>Early Morning</td>\n",
       "    </tr>\n",
       "  </tbody>\n",
       "</table>\n",
       "</div>"
      ],
      "text/plain": [
       "    Request_id Pickup_point  Driver_id          Status   Request_Date_Time  \\\n",
       "0          619      Airport        1.0  Trip Completed 2016-07-11 11:51:00   \n",
       "1          867      Airport        1.0  Trip Completed 2016-07-11 17:57:00   \n",
       "2         1807         City        1.0  Trip Completed 2016-07-12 09:17:00   \n",
       "3         2532      Airport        1.0  Trip Completed 2016-07-12 21:08:00   \n",
       "4         3112         City        1.0  Trip Completed 2016-07-13 08:33:16   \n",
       "5         3879      Airport        1.0  Trip Completed 2016-07-13 21:57:28   \n",
       "6         4270      Airport        1.0  Trip Completed 2016-07-14 06:15:32   \n",
       "7         5510      Airport        1.0  Trip Completed 2016-07-15 05:11:52   \n",
       "8         6248         City        1.0  Trip Completed 2016-07-15 17:57:27   \n",
       "9          267         City        2.0  Trip Completed 2016-07-11 06:46:00   \n",
       "10        1467      Airport        2.0  Trip Completed 2016-07-12 05:08:00   \n",
       "11        1983         City        2.0  Trip Completed 2016-07-12 12:30:00   \n",
       "12        2784      Airport        2.0  Trip Completed 2016-07-13 04:49:20   \n",
       "13        3075         City        2.0  Trip Completed 2016-07-13 08:02:53   \n",
       "14        3379         City        2.0  Trip Completed 2016-07-13 14:23:02   \n",
       "15        3482      Airport        2.0  Trip Completed 2016-07-13 17:23:18   \n",
       "16        4652         City        2.0  Trip Completed 2016-07-14 12:01:02   \n",
       "17        5335      Airport        2.0  Trip Completed 2016-07-14 22:24:13   \n",
       "18         535      Airport        3.0  Trip Completed 2016-07-11 10:00:00   \n",
       "19         960      Airport        3.0  Trip Completed 2016-07-11 18:45:00   \n",
       "20        1934      Airport        3.0  Trip Completed 2016-07-12 11:17:00   \n",
       "21        2083      Airport        3.0  Trip Completed 2016-07-12 15:46:00   \n",
       "22        2211      Airport        3.0  Trip Completed 2016-07-12 18:00:00   \n",
       "23        3096      Airport        3.0  Trip Completed 2016-07-13 08:17:29   \n",
       "24        3881      Airport        3.0  Trip Completed 2016-07-13 21:54:18   \n",
       "25        5254         City        3.0  Trip Completed 2016-07-14 21:23:03   \n",
       "26        5434         City        3.0  Trip Completed 2016-07-15 02:41:38   \n",
       "27        5916         City        3.0  Trip Completed 2016-07-15 10:00:43   \n",
       "28         669         City        4.0  Trip Completed 2016-07-11 13:08:00   \n",
       "29        1567      Airport        4.0  Trip Completed 2016-07-12 06:21:00   \n",
       "30        1826         City        4.0  Trip Completed 2016-07-12 09:27:00   \n",
       "31        2102         City        4.0  Trip Completed 2016-07-12 16:09:00   \n",
       "32        2847      Airport        4.0  Trip Completed 2016-07-13 05:34:20   \n",
       "33        3722      Airport        4.0  Trip Completed 2016-07-13 19:57:59   \n",
       "34        4075         City        4.0  Trip Completed 2016-07-14 02:17:35   \n",
       "35        4686         City        4.0  Trip Completed 2016-07-14 13:01:10   \n",
       "36        5771      Airport        4.0  Trip Completed 2016-07-15 08:30:06   \n",
       "37        6106      Airport        4.0  Trip Completed 2016-07-15 15:01:20   \n",
       "38         312         City        5.0  Trip Completed 2016-07-11 07:27:00   \n",
       "39         577      Airport        5.0  Trip Completed 2016-07-11 11:03:00   \n",
       "40        1179         City        5.0  Trip Completed 2016-07-11 20:58:00   \n",
       "41        1756      Airport        5.0  Trip Completed 2016-07-12 08:40:00   \n",
       "42        2052         City        5.0  Trip Completed 2016-07-12 14:48:00   \n",
       "43        2559         City        5.0  Trip Completed 2016-07-12 21:32:00   \n",
       "44        3014         City        5.0  Trip Completed 2016-07-13 07:28:14   \n",
       "45        3317         City        5.0  Trip Completed 2016-07-13 12:14:27   \n",
       "46        4297         City        5.0  Trip Completed 2016-07-14 06:43:01   \n",
       "47        5857      Airport        5.0  Trip Completed 2016-07-15 09:08:50   \n",
       "48        6690      Airport        5.0  Trip Completed 2016-07-15 22:41:41   \n",
       "49        1517      Airport        6.0  Trip Completed 2016-07-12 05:45:00   \n",
       "\n",
       "        Drop_Date_Time Request_Date Request_Time Request_DayOfWeek  \\\n",
       "0  2016-07-11 13:00:00   2016-07-11     11:51:00            Monday   \n",
       "1  2016-07-11 18:47:00   2016-07-11     17:57:00            Monday   \n",
       "2  2016-07-12 09:58:00   2016-07-12     09:17:00           Tuesday   \n",
       "3  2016-07-12 22:03:00   2016-07-12     21:08:00           Tuesday   \n",
       "4  2016-07-13 09:25:47   2016-07-13     08:33:16         Wednesday   \n",
       "5  2016-07-13 22:28:59   2016-07-13     21:57:28         Wednesday   \n",
       "6  2016-07-14 07:13:15   2016-07-14     06:15:32          Thursday   \n",
       "7  2016-07-15 06:07:52   2016-07-15     05:11:52            Friday   \n",
       "8  2016-07-15 18:50:51   2016-07-15     17:57:27            Friday   \n",
       "9  2016-07-11 07:25:00   2016-07-11     06:46:00            Monday   \n",
       "10 2016-07-12 06:02:00   2016-07-12     05:08:00           Tuesday   \n",
       "11 2016-07-12 12:57:00   2016-07-12     12:30:00           Tuesday   \n",
       "12 2016-07-13 05:23:03   2016-07-13     04:49:20         Wednesday   \n",
       "13 2016-07-13 09:16:19   2016-07-13     08:02:53         Wednesday   \n",
       "14 2016-07-13 15:35:18   2016-07-13     14:23:02         Wednesday   \n",
       "15 2016-07-13 18:20:51   2016-07-13     17:23:18         Wednesday   \n",
       "16 2016-07-14 12:36:46   2016-07-14     12:01:02          Thursday   \n",
       "17 2016-07-14 23:18:52   2016-07-14     22:24:13          Thursday   \n",
       "18 2016-07-11 10:31:00   2016-07-11     10:00:00            Monday   \n",
       "19 2016-07-11 19:23:00   2016-07-11     18:45:00            Monday   \n",
       "20 2016-07-12 12:23:00   2016-07-12     11:17:00           Tuesday   \n",
       "21 2016-07-12 16:40:00   2016-07-12     15:46:00           Tuesday   \n",
       "22 2016-07-12 18:28:00   2016-07-12     18:00:00           Tuesday   \n",
       "23 2016-07-13 09:22:37   2016-07-13     08:17:29         Wednesday   \n",
       "24 2016-07-13 22:51:23   2016-07-13     21:54:18         Wednesday   \n",
       "25 2016-07-14 22:25:19   2016-07-14     21:23:03          Thursday   \n",
       "26 2016-07-15 03:24:43   2016-07-15     02:41:38            Friday   \n",
       "27 2016-07-15 10:53:06   2016-07-15     10:00:43            Friday   \n",
       "28 2016-07-11 13:49:00   2016-07-11     13:08:00            Monday   \n",
       "29 2016-07-12 07:10:00   2016-07-12     06:21:00           Tuesday   \n",
       "30 2016-07-12 10:27:00   2016-07-12     09:27:00           Tuesday   \n",
       "31 2016-07-12 17:01:00   2016-07-12     16:09:00           Tuesday   \n",
       "32 2016-07-13 06:09:59   2016-07-13     05:34:20         Wednesday   \n",
       "33 2016-07-13 20:32:04   2016-07-13     19:57:59         Wednesday   \n",
       "34 2016-07-14 03:21:38   2016-07-14     02:17:35          Thursday   \n",
       "35 2016-07-14 13:45:28   2016-07-14     13:01:10          Thursday   \n",
       "36 2016-07-15 09:37:20   2016-07-15     08:30:06            Friday   \n",
       "37 2016-07-15 15:47:31   2016-07-15     15:01:20            Friday   \n",
       "38 2016-07-11 08:31:00   2016-07-11     07:27:00            Monday   \n",
       "39 2016-07-11 12:01:00   2016-07-11     11:03:00            Monday   \n",
       "40 2016-07-11 21:45:00   2016-07-11     20:58:00            Monday   \n",
       "41 2016-07-12 09:23:00   2016-07-12     08:40:00           Tuesday   \n",
       "42 2016-07-12 15:50:00   2016-07-12     14:48:00           Tuesday   \n",
       "43 2016-07-12 22:29:00   2016-07-12     21:32:00           Tuesday   \n",
       "44 2016-07-13 08:29:47   2016-07-13     07:28:14         Wednesday   \n",
       "45 2016-07-13 12:46:38   2016-07-13     12:14:27         Wednesday   \n",
       "46 2016-07-14 07:49:38   2016-07-14     06:43:01          Thursday   \n",
       "47 2016-07-15 10:07:07   2016-07-15     09:08:50            Friday   \n",
       "48 2016-07-15 23:51:00   2016-07-15     22:41:41            Friday   \n",
       "49 2016-07-12 06:28:00   2016-07-12     05:45:00           Tuesday   \n",
       "\n",
       "    Request_Hours Request_Timeslot  \n",
       "0              11          Morning  \n",
       "1              17          Evening  \n",
       "2               9          Morning  \n",
       "3              21            Night  \n",
       "4               8          Morning  \n",
       "5              21            Night  \n",
       "6               6          Morning  \n",
       "7               5    Early Morning  \n",
       "8              17          Evening  \n",
       "9               6          Morning  \n",
       "10              5    Early Morning  \n",
       "11             12        Afternoon  \n",
       "12              4    Early Morning  \n",
       "13              8          Morning  \n",
       "14             14        Afternoon  \n",
       "15             17          Evening  \n",
       "16             12        Afternoon  \n",
       "17             22            Night  \n",
       "18             10          Morning  \n",
       "19             18          Evening  \n",
       "20             11          Morning  \n",
       "21             15        Afternoon  \n",
       "22             18          Evening  \n",
       "23              8          Morning  \n",
       "24             21            Night  \n",
       "25             21            Night  \n",
       "26              2       Late Night  \n",
       "27             10          Morning  \n",
       "28             13        Afternoon  \n",
       "29              6          Morning  \n",
       "30              9          Morning  \n",
       "31             16          Evening  \n",
       "32              5    Early Morning  \n",
       "33             19          Evening  \n",
       "34              2       Late Night  \n",
       "35             13        Afternoon  \n",
       "36              8          Morning  \n",
       "37             15        Afternoon  \n",
       "38              7          Morning  \n",
       "39             11          Morning  \n",
       "40             20            Night  \n",
       "41              8          Morning  \n",
       "42             14        Afternoon  \n",
       "43             21            Night  \n",
       "44              7          Morning  \n",
       "45             12        Afternoon  \n",
       "46              6          Morning  \n",
       "47              9          Morning  \n",
       "48             22            Night  \n",
       "49              5    Early Morning  "
      ]
     },
     "execution_count": 23,
     "metadata": {},
     "output_type": "execute_result"
    }
   ],
   "source": [
    "uber.loc[uber['Request_Hours'].between(0, 2), 'Request_Timeslot'] = 'Late Night'\n",
    "uber.loc[uber['Request_Hours'].between(3, 5,), 'Request_Timeslot'] = 'Early Morning'\n",
    "uber.loc[uber['Request_Hours'].between(6, 11), 'Request_Timeslot'] = 'Morning'\n",
    "uber.loc[uber['Request_Hours'].between(12, 15), 'Request_Timeslot'] = 'Afternoon'\n",
    "uber.loc[uber['Request_Hours'].between(16, 19), 'Request_Timeslot'] = 'Evening'\n",
    "uber.loc[uber['Request_Hours'].between(20, 24), 'Request_Timeslot'] = 'Night'\n",
    "uber.head(50)"
   ]
  },
  {
   "cell_type": "markdown",
   "id": "b6005b31",
   "metadata": {},
   "source": [
    "***Checking if any new columns created has Na's***"
   ]
  },
  {
   "cell_type": "code",
   "execution_count": 24,
   "id": "fb77129b",
   "metadata": {},
   "outputs": [
    {
     "data": {
      "text/plain": [
       "Request_id              0\n",
       "Pickup_point            0\n",
       "Driver_id            2650\n",
       "Status                  0\n",
       "Request_Date_Time       0\n",
       "Drop_Date_Time       3914\n",
       "Request_Date            0\n",
       "Request_Time            0\n",
       "Request_DayOfWeek       0\n",
       "Request_Hours           0\n",
       "Request_Timeslot        0\n",
       "dtype: int64"
      ]
     },
     "execution_count": 24,
     "metadata": {},
     "output_type": "execute_result"
    }
   ],
   "source": [
    "uber.isna().sum()"
   ]
  },
  {
   "cell_type": "markdown",
   "id": "b64330e6",
   "metadata": {},
   "source": [
    "***2) Handling 'Drop_Date_Time' column***"
   ]
  },
  {
   "cell_type": "markdown",
   "id": "1bc28b94",
   "metadata": {},
   "source": [
    "***Exctracting Date & Time from 'Drop_Date_Time'***"
   ]
  },
  {
   "cell_type": "code",
   "execution_count": 25,
   "id": "87105597",
   "metadata": {},
   "outputs": [
    {
     "data": {
      "text/html": [
       "<div>\n",
       "<style scoped>\n",
       "    .dataframe tbody tr th:only-of-type {\n",
       "        vertical-align: middle;\n",
       "    }\n",
       "\n",
       "    .dataframe tbody tr th {\n",
       "        vertical-align: top;\n",
       "    }\n",
       "\n",
       "    .dataframe thead th {\n",
       "        text-align: right;\n",
       "    }\n",
       "</style>\n",
       "<table border=\"1\" class=\"dataframe\">\n",
       "  <thead>\n",
       "    <tr style=\"text-align: right;\">\n",
       "      <th></th>\n",
       "      <th>Request_id</th>\n",
       "      <th>Pickup_point</th>\n",
       "      <th>Driver_id</th>\n",
       "      <th>Status</th>\n",
       "      <th>Request_Date_Time</th>\n",
       "      <th>Drop_Date_Time</th>\n",
       "      <th>Request_Date</th>\n",
       "      <th>Request_Time</th>\n",
       "      <th>Request_DayOfWeek</th>\n",
       "      <th>Request_Hours</th>\n",
       "      <th>Request_Timeslot</th>\n",
       "      <th>Drop_Date</th>\n",
       "      <th>Drop_Time</th>\n",
       "    </tr>\n",
       "  </thead>\n",
       "  <tbody>\n",
       "    <tr>\n",
       "      <th>0</th>\n",
       "      <td>619</td>\n",
       "      <td>Airport</td>\n",
       "      <td>1.0</td>\n",
       "      <td>Trip Completed</td>\n",
       "      <td>2016-07-11 11:51:00</td>\n",
       "      <td>2016-07-11 13:00:00</td>\n",
       "      <td>2016-07-11</td>\n",
       "      <td>11:51:00</td>\n",
       "      <td>Monday</td>\n",
       "      <td>11</td>\n",
       "      <td>Morning</td>\n",
       "      <td>2016-07-11</td>\n",
       "      <td>13:00:00</td>\n",
       "    </tr>\n",
       "    <tr>\n",
       "      <th>1</th>\n",
       "      <td>867</td>\n",
       "      <td>Airport</td>\n",
       "      <td>1.0</td>\n",
       "      <td>Trip Completed</td>\n",
       "      <td>2016-07-11 17:57:00</td>\n",
       "      <td>2016-07-11 18:47:00</td>\n",
       "      <td>2016-07-11</td>\n",
       "      <td>17:57:00</td>\n",
       "      <td>Monday</td>\n",
       "      <td>17</td>\n",
       "      <td>Evening</td>\n",
       "      <td>2016-07-11</td>\n",
       "      <td>18:47:00</td>\n",
       "    </tr>\n",
       "    <tr>\n",
       "      <th>2</th>\n",
       "      <td>1807</td>\n",
       "      <td>City</td>\n",
       "      <td>1.0</td>\n",
       "      <td>Trip Completed</td>\n",
       "      <td>2016-07-12 09:17:00</td>\n",
       "      <td>2016-07-12 09:58:00</td>\n",
       "      <td>2016-07-12</td>\n",
       "      <td>09:17:00</td>\n",
       "      <td>Tuesday</td>\n",
       "      <td>9</td>\n",
       "      <td>Morning</td>\n",
       "      <td>2016-07-12</td>\n",
       "      <td>09:58:00</td>\n",
       "    </tr>\n",
       "    <tr>\n",
       "      <th>3</th>\n",
       "      <td>2532</td>\n",
       "      <td>Airport</td>\n",
       "      <td>1.0</td>\n",
       "      <td>Trip Completed</td>\n",
       "      <td>2016-07-12 21:08:00</td>\n",
       "      <td>2016-07-12 22:03:00</td>\n",
       "      <td>2016-07-12</td>\n",
       "      <td>21:08:00</td>\n",
       "      <td>Tuesday</td>\n",
       "      <td>21</td>\n",
       "      <td>Night</td>\n",
       "      <td>2016-07-12</td>\n",
       "      <td>22:03:00</td>\n",
       "    </tr>\n",
       "    <tr>\n",
       "      <th>4</th>\n",
       "      <td>3112</td>\n",
       "      <td>City</td>\n",
       "      <td>1.0</td>\n",
       "      <td>Trip Completed</td>\n",
       "      <td>2016-07-13 08:33:16</td>\n",
       "      <td>2016-07-13 09:25:47</td>\n",
       "      <td>2016-07-13</td>\n",
       "      <td>08:33:16</td>\n",
       "      <td>Wednesday</td>\n",
       "      <td>8</td>\n",
       "      <td>Morning</td>\n",
       "      <td>2016-07-13</td>\n",
       "      <td>09:25:47</td>\n",
       "    </tr>\n",
       "  </tbody>\n",
       "</table>\n",
       "</div>"
      ],
      "text/plain": [
       "   Request_id Pickup_point  Driver_id          Status   Request_Date_Time  \\\n",
       "0         619      Airport        1.0  Trip Completed 2016-07-11 11:51:00   \n",
       "1         867      Airport        1.0  Trip Completed 2016-07-11 17:57:00   \n",
       "2        1807         City        1.0  Trip Completed 2016-07-12 09:17:00   \n",
       "3        2532      Airport        1.0  Trip Completed 2016-07-12 21:08:00   \n",
       "4        3112         City        1.0  Trip Completed 2016-07-13 08:33:16   \n",
       "\n",
       "       Drop_Date_Time Request_Date Request_Time Request_DayOfWeek  \\\n",
       "0 2016-07-11 13:00:00   2016-07-11     11:51:00            Monday   \n",
       "1 2016-07-11 18:47:00   2016-07-11     17:57:00            Monday   \n",
       "2 2016-07-12 09:58:00   2016-07-12     09:17:00           Tuesday   \n",
       "3 2016-07-12 22:03:00   2016-07-12     21:08:00           Tuesday   \n",
       "4 2016-07-13 09:25:47   2016-07-13     08:33:16         Wednesday   \n",
       "\n",
       "   Request_Hours Request_Timeslot   Drop_Date Drop_Time  \n",
       "0             11          Morning  2016-07-11  13:00:00  \n",
       "1             17          Evening  2016-07-11  18:47:00  \n",
       "2              9          Morning  2016-07-12  09:58:00  \n",
       "3             21            Night  2016-07-12  22:03:00  \n",
       "4              8          Morning  2016-07-13  09:25:47  "
      ]
     },
     "execution_count": 25,
     "metadata": {},
     "output_type": "execute_result"
    }
   ],
   "source": [
    "uber['Drop_Date'] = uber['Drop_Date_Time'].dt.date\n",
    "uber['Drop_Time'] = uber['Drop_Date_Time'].dt.time\n",
    "uber.head()"
   ]
  },
  {
   "cell_type": "markdown",
   "id": "5d1a9347",
   "metadata": {},
   "source": [
    "# Exploratory Data Analysis (EDA)"
   ]
  },
  {
   "cell_type": "markdown",
   "id": "8370ce6b",
   "metadata": {},
   "source": [
    "***Looking for insights from 'Pickup_points'***"
   ]
  },
  {
   "cell_type": "code",
   "execution_count": 26,
   "id": "57be66a5",
   "metadata": {},
   "outputs": [
    {
     "data": {
      "image/png": "[encoded data removed]",
      "text/plain": [
       "<Figure size 432x288 with 1 Axes>"
      ]
     },
     "metadata": {},
     "output_type": "display_data"
    }
   ],
   "source": [
    "sns.set(style=\"darkgrid\")\n",
    "ax = sns.countplot(x=\"Pickup_point\", data=uber)\n",
    "for p in ax.patches:\n",
    "    value = p.get_height()\n",
    "    X = p.get_x()+0.4\n",
    "    Y = p.get_height()+50\n",
    "    ax.text(X, Y, value, ha=\"center\")\n",
    "plt.show()"
   ]
  },
  {
   "cell_type": "markdown",
   "id": "1681a1c6",
   "metadata": {},
   "source": [
    "There is no much difference in 'City' and 'Airport' requests."
   ]
  },
  {
   "cell_type": "markdown",
   "id": "dd29784f",
   "metadata": {},
   "source": [
    "**Looking for insights from 'Status'**"
   ]
  },
  {
   "cell_type": "code",
   "execution_count": 27,
   "id": "e23c606c",
   "metadata": {},
   "outputs": [
    {
     "data": {
      "image/png": "[encoded data removed]",
      "text/plain": [
       "<Figure size 720x576 with 1 Axes>"
      ]
     },
     "metadata": {},
     "output_type": "display_data"
    }
   ],
   "source": [
    "plt.figure(figsize=(10, 8))\n",
    "ax =sns.countplot(x=\"Status\", data=uber)\n",
    "total = len(uber)\n",
    "for p in ax.patches:\n",
    "    value = round((p.get_height()/total)*100,2)\n",
    "    X = p.get_x()+0.4\n",
    "    Y = p.get_height()+50\n",
    "    ax.text(X, Y, '{:} %'.format(value), ha=\"center\")\n",
    "plt.show()"
   ]
  },
  {
   "cell_type": "markdown",
   "id": "8b4edba2",
   "metadata": {},
   "source": [
    "Only 41.97% requests from city and airport request gets completed."
   ]
  },
  {
   "cell_type": "markdown",
   "id": "f3c05abd",
   "metadata": {},
   "source": [
    "**looking to find the request count vs daysof week**"
   ]
  },
  {
   "cell_type": "code",
   "execution_count": 28,
   "id": "097fbe24",
   "metadata": {},
   "outputs": [
    {
     "data": {
      "image/png": "[encoded data removed]",
      "text/plain": [
       "<Figure size 864x576 with 1 Axes>"
      ]
     },
     "metadata": {},
     "output_type": "display_data"
    }
   ],
   "source": [
    "plt.figure(num=None, figsize=(12, 8), facecolor='w', edgecolor='k')\n",
    "ax =sns.countplot(x='Request_DayOfWeek', data=uber)\n",
    "for p in ax.patches:\n",
    "    value = p.get_height()\n",
    "    X = p.get_x()+0.4\n",
    "    Y = p.get_height()+20\n",
    "    ax.text(X, Y, value, ha=\"center\")\n",
    "plt.show()"
   ]
  },
  {
   "cell_type": "markdown",
   "id": "115b285b",
   "metadata": {},
   "source": [
    "There isn't much difference in requests vs days of the week."
   ]
  },
  {
   "cell_type": "markdown",
   "id": "37d53cfd",
   "metadata": {},
   "source": [
    "**looking for insight in request hour**"
   ]
  },
  {
   "cell_type": "code",
   "execution_count": 29,
   "id": "ea3b1683",
   "metadata": {},
   "outputs": [
    {
     "data": {
      "image/png": "[encoded data removed]",
      "text/plain": [
       "<Figure size 864x576 with 1 Axes>"
      ]
     },
     "metadata": {},
     "output_type": "display_data"
    }
   ],
   "source": [
    "plt.figure(figsize=(12, 8), facecolor='w', edgecolor='k')\n",
    "sns.countplot(x='Request_Hours', data=uber)\n",
    "plt.show()"
   ]
  },
  {
   "cell_type": "markdown",
   "id": "baab5901",
   "metadata": {},
   "source": [
    "The above plot clearly depicts that there are high request rates from 5AM to 9AM and 5PM to 10PM."
   ]
  },
  {
   "cell_type": "markdown",
   "id": "6c8f04b3",
   "metadata": {},
   "source": [
    "**To check if high request rates from 5AM to 9AM and 5PM to 10PM is consistent throughout all days**"
   ]
  },
  {
   "cell_type": "code",
   "execution_count": 30,
   "id": "2704de38",
   "metadata": {},
   "outputs": [
    {
     "data": {
      "image/png": "[encoded data removed]",
      "text/plain": [
       "<Figure size 1440x1440 with 1 Axes>"
      ]
     },
     "metadata": {},
     "output_type": "display_data"
    }
   ],
   "source": [
    "plt.figure(num=None, figsize=(20, 20), facecolor='w', edgecolor='b')\n",
    "sns.countplot(y='Request_Date',hue=\"Request_Hours\", data=uber)\n",
    "plt.show()"
   ]
  },
  {
   "cell_type": "markdown",
   "id": "e03ec762",
   "metadata": {},
   "source": [
    "Above graph shows that all dates high request rates is around the same time 5AM to 9AM and 5PM to 10PM."
   ]
  },
  {
   "cell_type": "markdown",
   "id": "2fc95777",
   "metadata": {},
   "source": [
    "**looking for insight in 'Request_timeslot'**"
   ]
  },
  {
   "cell_type": "code",
   "execution_count": 31,
   "id": "63514c76",
   "metadata": {},
   "outputs": [
    {
     "data": {
      "image/png": "[encoded data removed]",
      "text/plain": [
       "<Figure size 864x576 with 1 Axes>"
      ]
     },
     "metadata": {},
     "output_type": "display_data"
    }
   ],
   "source": [
    "plt.figure(num=None, figsize=(12, 8), facecolor='w', edgecolor='b')\n",
    "ax =sns.countplot(x='Request_Timeslot', data=uber)\n",
    "total = len(uber)\n",
    "for p in ax.patches:\n",
    "    value = round((p.get_height()/total)*100,2)\n",
    "    X = p.get_x()+0.4\n",
    "    Y = p.get_height()+25\n",
    "    ax.text(X, Y, '{:} %'.format(value), ha=\"center\")\n",
    "plt.show()"
   ]
  },
  {
   "cell_type": "markdown",
   "id": "f480d79a",
   "metadata": {},
   "source": [
    "From the above plot it is clear that most of the requests are raised in Morning(30.72%), Evening(23.13%) and Night (21.33%) slots which is approx. high request rates are from 5AM to 9AM and 5PM to 10PM."
   ]
  },
  {
   "cell_type": "markdown",
   "id": "a46162d8",
   "metadata": {},
   "source": [
    "**Observations so far:**\n",
    "\n",
    "    1. 1Only 41.97% requests from city and airport request gets completed\n",
    "    2. High request rates are from Morning, Evening and Night slot"
   ]
  },
  {
   "cell_type": "markdown",
   "id": "3f38397d",
   "metadata": {},
   "source": [
    "# **Segmenting the data**"
   ]
  },
  {
   "cell_type": "markdown",
   "id": "0c4408e4",
   "metadata": {},
   "source": [
    "**Segmenting pickup point over status**"
   ]
  },
  {
   "cell_type": "code",
   "execution_count": 32,
   "id": "c843534f",
   "metadata": {},
   "outputs": [
    {
     "data": {
      "image/png": "[encoded data removed]",
      "text/plain": [
       "<Figure size 864x576 with 1 Axes>"
      ]
     },
     "metadata": {},
     "output_type": "display_data"
    }
   ],
   "source": [
    "plt.figure(num=None, figsize=(12, 8), facecolor='w', edgecolor='k')\n",
    "ax =sns.countplot(x='Pickup_point', hue=\"Status\", data=uber)\n",
    "total = len(uber)\n",
    "for p in ax.patches:\n",
    "    value = round((p.get_height()/total)*100,2)\n",
    "    X = p.get_x()+0.2\n",
    "    Y = p.get_height()+20\n",
    "    ax.text(X, Y, '{:} %'.format(value), ha=\"right\")\n",
    "plt.show()"
   ]
  },
  {
   "cell_type": "markdown",
   "id": "9d85afc6",
   "metadata": {},
   "source": [
    "The above plot shows that for most of the  Airport pickup requests there are no cars available and most requests that get cancelled are from city pickup requests"
   ]
  },
  {
   "cell_type": "markdown",
   "id": "d57a84b0",
   "metadata": {},
   "source": [
    "**Segmenting pickup point over time slot**"
   ]
  },
  {
   "cell_type": "code",
   "execution_count": 33,
   "id": "6f0d0d78",
   "metadata": {},
   "outputs": [
    {
     "data": {
      "image/png": "[encoded data removed]",
      "text/plain": [
       "<Figure size 864x576 with 1 Axes>"
      ]
     },
     "metadata": {},
     "output_type": "display_data"
    }
   ],
   "source": [
    "plt.figure(num=None, figsize=(12, 8), facecolor='w', edgecolor='k')\n",
    "sns.countplot(x='Pickup_point', hue=\"Request_Timeslot\", data=uber)\n",
    "plt.show()"
   ]
  },
  {
   "cell_type": "markdown",
   "id": "daac4b29",
   "metadata": {},
   "source": [
    "Airport - has the hightest request in the evening & Night.\n",
    "\n",
    "City- has the hightest request in the Morning.\n",
    "\n",
    "From this graph our previous observation of high request rates of Morning, Evening & Night slot gets clarified."
   ]
  },
  {
   "cell_type": "markdown",
   "id": "f3890d7b",
   "metadata": {},
   "source": [
    "**Segmenting the timeslot vs both Status and pickup point**"
   ]
  },
  {
   "cell_type": "code",
   "execution_count": 34,
   "id": "0f52e2ea",
   "metadata": {},
   "outputs": [
    {
     "data": {
      "image/png": "[encoded data removed]",
      "text/plain": [
       "<Figure size 1014.92x432 with 3 Axes>"
      ]
     },
     "metadata": {},
     "output_type": "display_data"
    }
   ],
   "source": [
    "sns.catplot(x='Pickup_point',col=\"Status\", hue = 'Request_Timeslot',data=uber ,kind=\"count\",\n",
    "            height=6,aspect= 0.7,ci=85,col_wrap=3,margin_titles=True)\n",
    "plt.show()"
   ]
  },
  {
   "cell_type": "markdown",
   "id": "a8651f33",
   "metadata": {},
   "source": [
    "From the above plot it is evident that:\n",
    "\n",
    "    1. Airport requests during the Evening & Night slot(during which there is high airport request rate)there are no cars available\n",
    "    \n",
    "    2. Most City requests get cancelled in the Morning slot(during which there is high city request rate)"
   ]
  },
  {
   "cell_type": "markdown",
   "id": "0c85c2d8",
   "metadata": {},
   "source": [
    "# Observation so far:"
   ]
  },
  {
   "cell_type": "markdown",
   "id": "c5f5c86f",
   "metadata": {},
   "source": [
    "**The problematic status are cancelled and no cars available as it leads to potential loss of revenue.**\n",
    "\n",
    "    1. Airport pickup point has most 'No Cars Available'\n",
    "    2. City pickup point has highest 'Cancelled' status\n",
    "    3. 'Airport' - has the hightest request in the 'Evening & Night' aligning to our 'No Cars Available' status\n",
    "    4. 'City'- has the hightest request in the 'Morning' aligning to our 'Cancelled' status.\n"
   ]
  },
  {
   "cell_type": "markdown",
   "id": "aacc70e5",
   "metadata": {},
   "source": [
    "# Supply and demand gap calculation"
   ]
  },
  {
   "cell_type": "markdown",
   "id": "dd3ddd68",
   "metadata": {},
   "source": [
    "**Creating demand column**"
   ]
  },
  {
   "cell_type": "code",
   "execution_count": 35,
   "id": "84ac851c",
   "metadata": {},
   "outputs": [],
   "source": [
    "uber.loc[(uber.Status == 'Trip Completed') | (uber.Status == 'Cancelled')| (uber.Status == 'No Cars Available'), 'demand'] = 'Demand' "
   ]
  },
  {
   "cell_type": "markdown",
   "id": "d94c0e31",
   "metadata": {},
   "source": [
    "**Creating supply column**"
   ]
  },
  {
   "cell_type": "code",
   "execution_count": 36,
   "id": "c924573f",
   "metadata": {},
   "outputs": [],
   "source": [
    "uber.loc[(uber.Status == 'Trip Completed'), 'supply'] = 'Supply'"
   ]
  },
  {
   "cell_type": "markdown",
   "id": "6e7577bb",
   "metadata": {},
   "source": [
    "**Creating gap column**"
   ]
  },
  {
   "cell_type": "code",
   "execution_count": 37,
   "id": "ac2ea114",
   "metadata": {},
   "outputs": [],
   "source": [
    "uber.loc[(uber.Status == 'Cancelled')| (uber.Status == 'No Cars Available'), 'gap'] = 'Gap' "
   ]
  },
  {
   "cell_type": "code",
   "execution_count": 38,
   "id": "a2d797a2",
   "metadata": {},
   "outputs": [
    {
     "data": {
      "text/html": [
       "<div>\n",
       "<style scoped>\n",
       "    .dataframe tbody tr th:only-of-type {\n",
       "        vertical-align: middle;\n",
       "    }\n",
       "\n",
       "    .dataframe tbody tr th {\n",
       "        vertical-align: top;\n",
       "    }\n",
       "\n",
       "    .dataframe thead th {\n",
       "        text-align: right;\n",
       "    }\n",
       "</style>\n",
       "<table border=\"1\" class=\"dataframe\">\n",
       "  <thead>\n",
       "    <tr style=\"text-align: right;\">\n",
       "      <th></th>\n",
       "      <th>Request_id</th>\n",
       "      <th>Pickup_point</th>\n",
       "      <th>Driver_id</th>\n",
       "      <th>Status</th>\n",
       "      <th>Request_Date_Time</th>\n",
       "      <th>Drop_Date_Time</th>\n",
       "      <th>Request_Date</th>\n",
       "      <th>Request_Time</th>\n",
       "      <th>Request_DayOfWeek</th>\n",
       "      <th>Request_Hours</th>\n",
       "      <th>Request_Timeslot</th>\n",
       "      <th>Drop_Date</th>\n",
       "      <th>Drop_Time</th>\n",
       "      <th>demand</th>\n",
       "      <th>supply</th>\n",
       "      <th>gap</th>\n",
       "    </tr>\n",
       "  </thead>\n",
       "  <tbody>\n",
       "    <tr>\n",
       "      <th>0</th>\n",
       "      <td>619</td>\n",
       "      <td>Airport</td>\n",
       "      <td>1.0</td>\n",
       "      <td>Trip Completed</td>\n",
       "      <td>2016-07-11 11:51:00</td>\n",
       "      <td>2016-07-11 13:00:00</td>\n",
       "      <td>2016-07-11</td>\n",
       "      <td>11:51:00</td>\n",
       "      <td>Monday</td>\n",
       "      <td>11</td>\n",
       "      <td>Morning</td>\n",
       "      <td>2016-07-11</td>\n",
       "      <td>13:00:00</td>\n",
       "      <td>Demand</td>\n",
       "      <td>Supply</td>\n",
       "      <td>NaN</td>\n",
       "    </tr>\n",
       "    <tr>\n",
       "      <th>1</th>\n",
       "      <td>867</td>\n",
       "      <td>Airport</td>\n",
       "      <td>1.0</td>\n",
       "      <td>Trip Completed</td>\n",
       "      <td>2016-07-11 17:57:00</td>\n",
       "      <td>2016-07-11 18:47:00</td>\n",
       "      <td>2016-07-11</td>\n",
       "      <td>17:57:00</td>\n",
       "      <td>Monday</td>\n",
       "      <td>17</td>\n",
       "      <td>Evening</td>\n",
       "      <td>2016-07-11</td>\n",
       "      <td>18:47:00</td>\n",
       "      <td>Demand</td>\n",
       "      <td>Supply</td>\n",
       "      <td>NaN</td>\n",
       "    </tr>\n",
       "    <tr>\n",
       "      <th>2</th>\n",
       "      <td>1807</td>\n",
       "      <td>City</td>\n",
       "      <td>1.0</td>\n",
       "      <td>Trip Completed</td>\n",
       "      <td>2016-07-12 09:17:00</td>\n",
       "      <td>2016-07-12 09:58:00</td>\n",
       "      <td>2016-07-12</td>\n",
       "      <td>09:17:00</td>\n",
       "      <td>Tuesday</td>\n",
       "      <td>9</td>\n",
       "      <td>Morning</td>\n",
       "      <td>2016-07-12</td>\n",
       "      <td>09:58:00</td>\n",
       "      <td>Demand</td>\n",
       "      <td>Supply</td>\n",
       "      <td>NaN</td>\n",
       "    </tr>\n",
       "    <tr>\n",
       "      <th>3</th>\n",
       "      <td>2532</td>\n",
       "      <td>Airport</td>\n",
       "      <td>1.0</td>\n",
       "      <td>Trip Completed</td>\n",
       "      <td>2016-07-12 21:08:00</td>\n",
       "      <td>2016-07-12 22:03:00</td>\n",
       "      <td>2016-07-12</td>\n",
       "      <td>21:08:00</td>\n",
       "      <td>Tuesday</td>\n",
       "      <td>21</td>\n",
       "      <td>Night</td>\n",
       "      <td>2016-07-12</td>\n",
       "      <td>22:03:00</td>\n",
       "      <td>Demand</td>\n",
       "      <td>Supply</td>\n",
       "      <td>NaN</td>\n",
       "    </tr>\n",
       "    <tr>\n",
       "      <th>4</th>\n",
       "      <td>3112</td>\n",
       "      <td>City</td>\n",
       "      <td>1.0</td>\n",
       "      <td>Trip Completed</td>\n",
       "      <td>2016-07-13 08:33:16</td>\n",
       "      <td>2016-07-13 09:25:47</td>\n",
       "      <td>2016-07-13</td>\n",
       "      <td>08:33:16</td>\n",
       "      <td>Wednesday</td>\n",
       "      <td>8</td>\n",
       "      <td>Morning</td>\n",
       "      <td>2016-07-13</td>\n",
       "      <td>09:25:47</td>\n",
       "      <td>Demand</td>\n",
       "      <td>Supply</td>\n",
       "      <td>NaN</td>\n",
       "    </tr>\n",
       "  </tbody>\n",
       "</table>\n",
       "</div>"
      ],
      "text/plain": [
       "   Request_id Pickup_point  Driver_id          Status   Request_Date_Time  \\\n",
       "0         619      Airport        1.0  Trip Completed 2016-07-11 11:51:00   \n",
       "1         867      Airport        1.0  Trip Completed 2016-07-11 17:57:00   \n",
       "2        1807         City        1.0  Trip Completed 2016-07-12 09:17:00   \n",
       "3        2532      Airport        1.0  Trip Completed 2016-07-12 21:08:00   \n",
       "4        3112         City        1.0  Trip Completed 2016-07-13 08:33:16   \n",
       "\n",
       "       Drop_Date_Time Request_Date Request_Time Request_DayOfWeek  \\\n",
       "0 2016-07-11 13:00:00   2016-07-11     11:51:00            Monday   \n",
       "1 2016-07-11 18:47:00   2016-07-11     17:57:00            Monday   \n",
       "2 2016-07-12 09:58:00   2016-07-12     09:17:00           Tuesday   \n",
       "3 2016-07-12 22:03:00   2016-07-12     21:08:00           Tuesday   \n",
       "4 2016-07-13 09:25:47   2016-07-13     08:33:16         Wednesday   \n",
       "\n",
       "   Request_Hours Request_Timeslot   Drop_Date Drop_Time  demand  supply  gap  \n",
       "0             11          Morning  2016-07-11  13:00:00  Demand  Supply  NaN  \n",
       "1             17          Evening  2016-07-11  18:47:00  Demand  Supply  NaN  \n",
       "2              9          Morning  2016-07-12  09:58:00  Demand  Supply  NaN  \n",
       "3             21            Night  2016-07-12  22:03:00  Demand  Supply  NaN  \n",
       "4              8          Morning  2016-07-13  09:25:47  Demand  Supply  NaN  "
      ]
     },
     "execution_count": 38,
     "metadata": {},
     "output_type": "execute_result"
    }
   ],
   "source": [
    "uber.head()"
   ]
  },
  {
   "cell_type": "markdown",
   "id": "50d978ae",
   "metadata": {},
   "source": [
    "**Calculating demand, supply and gap count**"
   ]
  },
  {
   "cell_type": "code",
   "execution_count": 39,
   "id": "b3c05cdc",
   "metadata": {},
   "outputs": [
    {
     "data": {
      "text/plain": [
       "6745"
      ]
     },
     "execution_count": 39,
     "metadata": {},
     "output_type": "execute_result"
    }
   ],
   "source": [
    "uber['demand'].count()"
   ]
  },
  {
   "cell_type": "code",
   "execution_count": 40,
   "id": "ebfa91f7",
   "metadata": {},
   "outputs": [
    {
     "data": {
      "text/plain": [
       "2831"
      ]
     },
     "execution_count": 40,
     "metadata": {},
     "output_type": "execute_result"
    }
   ],
   "source": [
    "uber['supply'].count()"
   ]
  },
  {
   "cell_type": "code",
   "execution_count": 41,
   "id": "dd2348f6",
   "metadata": {},
   "outputs": [
    {
     "data": {
      "text/plain": [
       "3914"
      ]
     },
     "execution_count": 41,
     "metadata": {},
     "output_type": "execute_result"
    }
   ],
   "source": [
    "uber['gap'].count()"
   ]
  },
  {
   "cell_type": "code",
   "execution_count": 42,
   "id": "a0002c1a",
   "metadata": {},
   "outputs": [
    {
     "data": {
      "text/html": [
       "<div>\n",
       "<style scoped>\n",
       "    .dataframe tbody tr th:only-of-type {\n",
       "        vertical-align: middle;\n",
       "    }\n",
       "\n",
       "    .dataframe tbody tr th {\n",
       "        vertical-align: top;\n",
       "    }\n",
       "\n",
       "    .dataframe thead th {\n",
       "        text-align: right;\n",
       "    }\n",
       "</style>\n",
       "<table border=\"1\" class=\"dataframe\">\n",
       "  <thead>\n",
       "    <tr style=\"text-align: right;\">\n",
       "      <th></th>\n",
       "      <th>demand</th>\n",
       "      <th>supply</th>\n",
       "      <th>gap</th>\n",
       "    </tr>\n",
       "  </thead>\n",
       "  <tbody>\n",
       "    <tr>\n",
       "      <th>0</th>\n",
       "      <td>Demand</td>\n",
       "      <td>Supply</td>\n",
       "      <td>NaN</td>\n",
       "    </tr>\n",
       "    <tr>\n",
       "      <th>1</th>\n",
       "      <td>Demand</td>\n",
       "      <td>Supply</td>\n",
       "      <td>NaN</td>\n",
       "    </tr>\n",
       "    <tr>\n",
       "      <th>2</th>\n",
       "      <td>Demand</td>\n",
       "      <td>Supply</td>\n",
       "      <td>NaN</td>\n",
       "    </tr>\n",
       "    <tr>\n",
       "      <th>3</th>\n",
       "      <td>Demand</td>\n",
       "      <td>Supply</td>\n",
       "      <td>NaN</td>\n",
       "    </tr>\n",
       "    <tr>\n",
       "      <th>4</th>\n",
       "      <td>Demand</td>\n",
       "      <td>Supply</td>\n",
       "      <td>NaN</td>\n",
       "    </tr>\n",
       "  </tbody>\n",
       "</table>\n",
       "</div>"
      ],
      "text/plain": [
       "   demand  supply  gap\n",
       "0  Demand  Supply  NaN\n",
       "1  Demand  Supply  NaN\n",
       "2  Demand  Supply  NaN\n",
       "3  Demand  Supply  NaN\n",
       "4  Demand  Supply  NaN"
      ]
     },
     "execution_count": 42,
     "metadata": {},
     "output_type": "execute_result"
    }
   ],
   "source": [
    "uber_SupplyandDemand = pd.DataFrame([uber.demand,uber.supply,uber.gap]).transpose()\n",
    "uber_SupplyandDemand.head()"
   ]
  },
  {
   "cell_type": "markdown",
   "id": "5d7bcaf4",
   "metadata": {},
   "source": [
    "**Plotting demand, supply and gap count**"
   ]
  },
  {
   "cell_type": "code",
   "execution_count": 43,
   "id": "0f3cd722",
   "metadata": {},
   "outputs": [
    {
     "data": {
      "image/png": "[encoded data removed]",
      "text/plain": [
       "<Figure size 576x576 with 1 Axes>"
      ]
     },
     "metadata": {},
     "output_type": "display_data"
    }
   ],
   "source": [
    "plt.figure(num=None, figsize=(8, 8), facecolor='w', edgecolor='k')\n",
    "sns.countplot(x=\"variable\",hue=\"value\", data=pd.melt(uber_SupplyandDemand))\n",
    "plt.show()"
   ]
  },
  {
   "cell_type": "markdown",
   "id": "ad88ef77",
   "metadata": {},
   "source": [
    "This clearly shows that gap exist and there is huge possible to bridge the gap and increase the revenue.\n",
    "\n",
    "Gap = Demand -Supply\n",
    "\n",
    "Around 58.02% of 'Gap' exist."
   ]
  },
  {
   "cell_type": "markdown",
   "id": "f46156f7",
   "metadata": {},
   "source": [
    "**Segmenting demand across the request time slot**"
   ]
  },
  {
   "cell_type": "code",
   "execution_count": 44,
   "id": "3d295c16",
   "metadata": {},
   "outputs": [
    {
     "data": {
      "image/png": "[encoded data removed]",
      "text/plain": [
       "<Figure size 864x576 with 1 Axes>"
      ]
     },
     "metadata": {},
     "output_type": "display_data"
    }
   ],
   "source": [
    "plt.figure(num=None, figsize=(12, 8), facecolor='w', edgecolor='k')\n",
    "sns.countplot(hue='demand',x=\"Request_Timeslot\", data=uber)\n",
    "plt.show()"
   ]
  },
  {
   "cell_type": "markdown",
   "id": "0e14e042",
   "metadata": {},
   "source": [
    "Above graph shows that Morning, Evening and Night has the hightest demand for cabs"
   ]
  },
  {
   "cell_type": "markdown",
   "id": "d22470ef",
   "metadata": {},
   "source": [
    "**Segmenting gap across the request time slot**"
   ]
  },
  {
   "cell_type": "code",
   "execution_count": 45,
   "id": "81a84d6a",
   "metadata": {},
   "outputs": [
    {
     "data": {
      "image/png": "[encoded data removed]",
      "text/plain": [
       "<Figure size 864x576 with 1 Axes>"
      ]
     },
     "metadata": {},
     "output_type": "display_data"
    }
   ],
   "source": [
    "plt.figure(num=None, figsize=(12, 8), facecolor='w', edgecolor='k')\n",
    "ax =sns.countplot(x='gap',hue=\"Request_Timeslot\", data=uber)\n",
    "total = len(uber['gap'])\n",
    "for p in ax.patches:\n",
    "    value = round((p.get_height()/total)*100,2)\n",
    "    X = p.get_x()+0.1\n",
    "    Y = p.get_height()+10\n",
    "    ax.text(X, Y, '{:} %'.format(value), ha=\"right\")\n",
    "plt.show()"
   ]
  },
  {
   "cell_type": "markdown",
   "id": "b140159e",
   "metadata": {},
   "source": [
    "In the above graph - the percentage is taken only across the total gap percentage which is 58.02%\n",
    "\n",
    "From the total gap percentage(58.02%) -around 17% gap exist during morning, 15% during evenings and 13% during night.\n",
    "\n",
    "This shows that gap is mainly in the morning, evening and night time slot, which again is in sync with all our above findings."
   ]
  },
  {
   "cell_type": "markdown",
   "id": "e4ca564e",
   "metadata": {},
   "source": [
    "**Segmenting gap across the status and request timeslot**"
   ]
  },
  {
   "cell_type": "code",
   "execution_count": 46,
   "id": "1abf2422",
   "metadata": {},
   "outputs": [
    {
     "data": {
      "image/png": "[encoded data removed]",
      "text/plain": [
       "<Figure size 580.7x504 with 1 Axes>"
      ]
     },
     "metadata": {},
     "output_type": "display_data"
    }
   ],
   "source": [
    "sns.catplot(x='Request_Timeslot',col=\"gap\", hue = 'Status',data=uber ,kind=\"count\", height=7,aspect= 0.9,ci=85)\n",
    "plt.show()"
   ]
  },
  {
   "cell_type": "markdown",
   "id": "f7dd7c2d",
   "metadata": {},
   "source": [
    "As gap is sum of (cancelled + No cars available) : We can see that there is no plot in trip completed(Obvious).\n",
    "    \n",
    "Highest 'Cancelled' gap comes from Morning slot.\n",
    "\n",
    "Highest 'No Cars Available' gap comes from Evening and Night slot."
   ]
  },
  {
   "cell_type": "markdown",
   "id": "8854c18f",
   "metadata": {},
   "source": [
    "**Segmenting gap across the pickup point and request timeslot**"
   ]
  },
  {
   "cell_type": "code",
   "execution_count": 47,
   "id": "0174a5cd",
   "metadata": {},
   "outputs": [
    {
     "data": {
      "image/png": "[encoded data removed]",
      "text/plain": [
       "<Figure size 1157.17x360 with 6 Axes>"
      ]
     },
     "metadata": {},
     "output_type": "display_data"
    }
   ],
   "source": [
    "sns.catplot(x='gap',col=\"Request_Timeslot\", hue = 'Pickup_point',data=uber ,kind=\"count\", height=5,aspect= 0.5,\n",
    "            ci=85)\n",
    "plt.show()"
   ]
  },
  {
   "cell_type": "markdown",
   "id": "a239b0fb",
   "metadata": {},
   "source": [
    "The graph above shows that:\n",
    "\n",
    "    1. In the morning, City pickup has the highest gap\n",
    "    2. In the evening and night, Airport pickup has the highest gap"
   ]
  },
  {
   "cell_type": "markdown",
   "id": "f7c779a0",
   "metadata": {},
   "source": [
    "**Segmenting the gap across the request hour and pickup point**"
   ]
  },
  {
   "cell_type": "code",
   "execution_count": 48,
   "id": "ef128fb2",
   "metadata": {},
   "outputs": [
    {
     "data": {
      "image/png": "[encoded data removed]",
      "text/plain": [
       "<Figure size 780.475x1440 with 2 Axes>"
      ]
     },
     "metadata": {},
     "output_type": "display_data"
    }
   ],
   "source": [
    "sns.catplot(x='Request_Hours',col=\"Pickup_point\", hue = 'gap',data=uber ,kind=\"count\", height=10,aspect= 1,\n",
    "            ci=85,col_wrap=1,palette=sns.color_palette(['orange']))\n",
    "plt.show()"
   ]
  },
  {
   "cell_type": "markdown",
   "id": "85a7a06b",
   "metadata": {},
   "source": [
    "The graph belows shows that:\n",
    "    \n",
    "    1. Airport has hightest gap at 17-21PM hours which is evening and night hours\n",
    "    2. City has hightest gap at 5-9AM hours which is morning hours and vice versa is not true"
   ]
  },
  {
   "cell_type": "markdown",
   "id": "e6e0f06f",
   "metadata": {},
   "source": [
    "# Observation so far:"
   ]
  },
  {
   "cell_type": "markdown",
   "id": "3fb8705d",
   "metadata": {},
   "source": [
    "The problematic status are 'cancelled' and 'no cars available' as it leads to potential loss of revenue. We observed the hightest value of:\n",
    "\n",
    "    Status: \"No Cars Available\"\n",
    "    Where is it happening: Airport - i.e Airport to City\n",
    "    When is it happening: Evening and Night\n",
    "\n",
    "    Status: \"Cancelled\"\n",
    "    Where is it happening: City - i.e City to Airport\n",
    "    When is it happening: Morning\n",
    "\n",
    "The above points are in sync with highest request rates coming from morning and evening slot.\n",
    "\n",
    "To make our analayse our observation so far, we further looked into the 'gap'. This again is in sync with above observations. The 'gap' which exists are the hightest:\n",
    "\n",
    "    Status: \"No Cars available\"\n",
    "    Where is it happening: Airport - i.e Airport to City\n",
    "    When is it happening: Evening and Night\n",
    "\n",
    "    Status: \"Cancelled\"\n",
    "    Where is it happening: City - i.e City to Airport\n",
    "    When is it happening: Morning\n",
    "\n",
    "And vice versa is not true:\n",
    "\n",
    "   1. Morning hours :There is no high demand for cabs from airport to city \n",
    "   2. Evening and Night hours: There is no high demand for cabs from city to airport\n",
    "\n",
    "This tells us that there are more outbound flights in the morning and inbound flights in the evening."
   ]
  },
  {
   "cell_type": "markdown",
   "id": "223bb8a9",
   "metadata": {},
   "source": [
    "# The reason for the issue:"
   ]
  },
  {
   "cell_type": "markdown",
   "id": "ac07e65f",
   "metadata": {},
   "source": [
    "**In the morning hours:** \n",
    "\n",
    "    Though there is high demand for cabs from City to Airport, the vice versa is not true.\n",
    "    Hence the driver tends to 'Cancel' the request as getting a return trip from airport to city would be tough.\n",
    "\n",
    "**In the Evening and Night hours:**\n",
    "\n",
    "    Though there is high demand for cabs from Airport to City, the vice versa is not true.\n",
    "    Hence 'No Cars Available' in the airport is the highest in the Evening and Night."
   ]
  },
  {
   "cell_type": "markdown",
   "id": "848b1ef8",
   "metadata": {},
   "source": [
    "# Possible suggestions to fill the supply demand gap:"
   ]
  },
  {
   "cell_type": "markdown",
   "id": "7bf649f7",
   "metadata": {},
   "source": [
    "1. Provide incentives for airport trips during peak time.\n",
    "2. Assigning few extra cabs specially to the airport trips.\n",
    "3. Fixing a base price for drivers idle time in the airport or to come back to the city without any passenger.\n",
    "4. Impose penalty for cancellation of requests by the drivers. Set a threshold for the maximum cancellation per day.\n",
    "5. Promote continuous trip to airport with incentives.\n",
    "6. Promote advance booking to airports and at the same time keeping drivers updated will the flight schedule with help them plan their work and they can accept the request as per their work plan.\n",
    "7. Identifying the day and time wise High demand areas by fetching uber app users data and sharing same with drivers to avoid \"No Cars Available\" issue."
   ]
  }
 ],
 "metadata": {
  "kernelspec": {
   "display_name": "Python 3 (ipykernel)",
   "language": "python",
   "name": "python3"
  },
  "language_info": {
   "codemirror_mode": {
    "name": "ipython",
    "version": 3
   },
   "file_extension": ".py",
   "mimetype": "text/x-python",
   "name": "python",
   "nbconvert_exporter": "python",
   "pygments_lexer": "ipython3",
   "version": "3.9.12"
  }
 },
 "nbformat": 4,
 "nbformat_minor": 5
}
